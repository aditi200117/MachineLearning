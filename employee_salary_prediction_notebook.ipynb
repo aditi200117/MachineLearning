{
 "cells": [
  {
   "cell_type": "markdown",
   "metadata": {},
   "source": [
    "# PREDICT EMPLOYEE SALARY BASED ON THE NUMBER OF YEARS OF EXPERIENCE USING REGRESSION"
   ]
  },
  {
   "cell_type": "markdown",
   "metadata": {
    "colab_type": "text",
    "id": "M27qF7CTrBqc"
   },
   "source": [
    "# UNDERSTAND THE PROBLEM STATEMENT "
   ]
  },
  {
   "cell_type": "markdown",
   "metadata": {
    "colab_type": "text",
    "id": "xNl52nl3qiyL"
   },
   "source": [
    "- The objective of this case study is to predict the employee salary based on the number of years of experience. \n",
    "- In simple linear regression, we predict the value of one variable Y based on another variable X.\n",
    "- X is called the independent variable and Y is called the dependant variable.\n",
    "- Why simple? Because it examines relationship between two variables only.\n",
    "- Why linear? when the independent variable increases (or decreases), the dependent variable increases (or decreases) in a linear fashion.\n"
   ]
  },
  {
   "cell_type": "markdown",
   "metadata": {
    "colab_type": "text",
    "id": "zKmFmyaGunc7"
   },
   "source": [
    "# IMPORT LIBRARIES AND DATASETS"
   ]
  },
  {
   "cell_type": "code",
   "execution_count": 1,
   "metadata": {},
   "outputs": [],
   "source": [
    "import pandas as pd\n",
    "import numpy as np\n",
    "import seaborn as sns\n",
    "import matplotlib.pyplot as plt\n"
   ]
  },
  {
   "cell_type": "code",
   "execution_count": 2,
   "metadata": {
    "colab": {},
    "colab_type": "code",
    "id": "tjIiJdM4u1IE"
   },
   "outputs": [],
   "source": [
    "# read the csv file \n",
    "salary_df = pd.read_csv('salary.csv')"
   ]
  },
  {
   "cell_type": "code",
   "execution_count": 3,
   "metadata": {
    "colab": {
     "base_uri": "https://localhost:8080/",
     "height": 204
    },
    "colab_type": "code",
    "id": "q4_wPDKCu5Uc",
    "outputId": "886d2aaf-0205-4f46-96a7-629d0f367d2f"
   },
   "outputs": [
    {
     "data": {
      "text/html": [
       "<div>\n",
       "<style scoped>\n",
       "    .dataframe tbody tr th:only-of-type {\n",
       "        vertical-align: middle;\n",
       "    }\n",
       "\n",
       "    .dataframe tbody tr th {\n",
       "        vertical-align: top;\n",
       "    }\n",
       "\n",
       "    .dataframe thead th {\n",
       "        text-align: right;\n",
       "    }\n",
       "</style>\n",
       "<table border=\"1\" class=\"dataframe\">\n",
       "  <thead>\n",
       "    <tr style=\"text-align: right;\">\n",
       "      <th></th>\n",
       "      <th>YearsExperience</th>\n",
       "      <th>Salary</th>\n",
       "    </tr>\n",
       "  </thead>\n",
       "  <tbody>\n",
       "    <tr>\n",
       "      <th>0</th>\n",
       "      <td>1.1</td>\n",
       "      <td>39343</td>\n",
       "    </tr>\n",
       "    <tr>\n",
       "      <th>1</th>\n",
       "      <td>1.3</td>\n",
       "      <td>46205</td>\n",
       "    </tr>\n",
       "    <tr>\n",
       "      <th>2</th>\n",
       "      <td>1.5</td>\n",
       "      <td>37731</td>\n",
       "    </tr>\n",
       "    <tr>\n",
       "      <th>3</th>\n",
       "      <td>2.0</td>\n",
       "      <td>43525</td>\n",
       "    </tr>\n",
       "    <tr>\n",
       "      <th>4</th>\n",
       "      <td>2.2</td>\n",
       "      <td>39891</td>\n",
       "    </tr>\n",
       "    <tr>\n",
       "      <th>5</th>\n",
       "      <td>2.9</td>\n",
       "      <td>56642</td>\n",
       "    </tr>\n",
       "    <tr>\n",
       "      <th>6</th>\n",
       "      <td>3.0</td>\n",
       "      <td>60150</td>\n",
       "    </tr>\n",
       "    <tr>\n",
       "      <th>7</th>\n",
       "      <td>3.2</td>\n",
       "      <td>54445</td>\n",
       "    </tr>\n",
       "    <tr>\n",
       "      <th>8</th>\n",
       "      <td>3.2</td>\n",
       "      <td>64445</td>\n",
       "    </tr>\n",
       "    <tr>\n",
       "      <th>9</th>\n",
       "      <td>3.7</td>\n",
       "      <td>57189</td>\n",
       "    </tr>\n",
       "    <tr>\n",
       "      <th>10</th>\n",
       "      <td>3.9</td>\n",
       "      <td>63218</td>\n",
       "    </tr>\n",
       "    <tr>\n",
       "      <th>11</th>\n",
       "      <td>4.0</td>\n",
       "      <td>55794</td>\n",
       "    </tr>\n",
       "    <tr>\n",
       "      <th>12</th>\n",
       "      <td>4.0</td>\n",
       "      <td>56957</td>\n",
       "    </tr>\n",
       "    <tr>\n",
       "      <th>13</th>\n",
       "      <td>4.1</td>\n",
       "      <td>57081</td>\n",
       "    </tr>\n",
       "    <tr>\n",
       "      <th>14</th>\n",
       "      <td>4.5</td>\n",
       "      <td>61111</td>\n",
       "    </tr>\n",
       "    <tr>\n",
       "      <th>15</th>\n",
       "      <td>4.9</td>\n",
       "      <td>67938</td>\n",
       "    </tr>\n",
       "    <tr>\n",
       "      <th>16</th>\n",
       "      <td>5.1</td>\n",
       "      <td>66029</td>\n",
       "    </tr>\n",
       "    <tr>\n",
       "      <th>17</th>\n",
       "      <td>5.3</td>\n",
       "      <td>83088</td>\n",
       "    </tr>\n",
       "    <tr>\n",
       "      <th>18</th>\n",
       "      <td>5.9</td>\n",
       "      <td>81363</td>\n",
       "    </tr>\n",
       "    <tr>\n",
       "      <th>19</th>\n",
       "      <td>6.0</td>\n",
       "      <td>93940</td>\n",
       "    </tr>\n",
       "    <tr>\n",
       "      <th>20</th>\n",
       "      <td>6.8</td>\n",
       "      <td>91738</td>\n",
       "    </tr>\n",
       "    <tr>\n",
       "      <th>21</th>\n",
       "      <td>7.1</td>\n",
       "      <td>98273</td>\n",
       "    </tr>\n",
       "    <tr>\n",
       "      <th>22</th>\n",
       "      <td>7.9</td>\n",
       "      <td>101302</td>\n",
       "    </tr>\n",
       "    <tr>\n",
       "      <th>23</th>\n",
       "      <td>8.2</td>\n",
       "      <td>113812</td>\n",
       "    </tr>\n",
       "    <tr>\n",
       "      <th>24</th>\n",
       "      <td>8.7</td>\n",
       "      <td>109431</td>\n",
       "    </tr>\n",
       "    <tr>\n",
       "      <th>25</th>\n",
       "      <td>9.0</td>\n",
       "      <td>105582</td>\n",
       "    </tr>\n",
       "    <tr>\n",
       "      <th>26</th>\n",
       "      <td>9.5</td>\n",
       "      <td>116969</td>\n",
       "    </tr>\n",
       "    <tr>\n",
       "      <th>27</th>\n",
       "      <td>9.6</td>\n",
       "      <td>112635</td>\n",
       "    </tr>\n",
       "    <tr>\n",
       "      <th>28</th>\n",
       "      <td>10.3</td>\n",
       "      <td>122391</td>\n",
       "    </tr>\n",
       "    <tr>\n",
       "      <th>29</th>\n",
       "      <td>10.5</td>\n",
       "      <td>121872</td>\n",
       "    </tr>\n",
       "    <tr>\n",
       "      <th>30</th>\n",
       "      <td>11.2</td>\n",
       "      <td>127345</td>\n",
       "    </tr>\n",
       "    <tr>\n",
       "      <th>31</th>\n",
       "      <td>11.5</td>\n",
       "      <td>126756</td>\n",
       "    </tr>\n",
       "    <tr>\n",
       "      <th>32</th>\n",
       "      <td>12.3</td>\n",
       "      <td>128765</td>\n",
       "    </tr>\n",
       "    <tr>\n",
       "      <th>33</th>\n",
       "      <td>12.9</td>\n",
       "      <td>135675</td>\n",
       "    </tr>\n",
       "    <tr>\n",
       "      <th>34</th>\n",
       "      <td>13.5</td>\n",
       "      <td>139465</td>\n",
       "    </tr>\n",
       "  </tbody>\n",
       "</table>\n",
       "</div>"
      ],
      "text/plain": [
       "    YearsExperience  Salary\n",
       "0               1.1   39343\n",
       "1               1.3   46205\n",
       "2               1.5   37731\n",
       "3               2.0   43525\n",
       "4               2.2   39891\n",
       "5               2.9   56642\n",
       "6               3.0   60150\n",
       "7               3.2   54445\n",
       "8               3.2   64445\n",
       "9               3.7   57189\n",
       "10              3.9   63218\n",
       "11              4.0   55794\n",
       "12              4.0   56957\n",
       "13              4.1   57081\n",
       "14              4.5   61111\n",
       "15              4.9   67938\n",
       "16              5.1   66029\n",
       "17              5.3   83088\n",
       "18              5.9   81363\n",
       "19              6.0   93940\n",
       "20              6.8   91738\n",
       "21              7.1   98273\n",
       "22              7.9  101302\n",
       "23              8.2  113812\n",
       "24              8.7  109431\n",
       "25              9.0  105582\n",
       "26              9.5  116969\n",
       "27              9.6  112635\n",
       "28             10.3  122391\n",
       "29             10.5  121872\n",
       "30             11.2  127345\n",
       "31             11.5  126756\n",
       "32             12.3  128765\n",
       "33             12.9  135675\n",
       "34             13.5  139465"
      ]
     },
     "execution_count": 3,
     "metadata": {},
     "output_type": "execute_result"
    }
   ],
   "source": [
    "salary_df"
   ]
  },
  {
   "cell_type": "code",
   "execution_count": null,
   "metadata": {},
   "outputs": [],
   "source": []
  },
  {
   "cell_type": "code",
   "execution_count": null,
   "metadata": {},
   "outputs": [],
   "source": []
  },
  {
   "cell_type": "markdown",
   "metadata": {
    "colab_type": "text",
    "id": "tMcr7xqMQre2"
   },
   "source": [
    "# PERFORM EXPLORATORY DATA ANALYSIS AND VISUALIZATION"
   ]
  },
  {
   "cell_type": "code",
   "execution_count": 4,
   "metadata": {},
   "outputs": [
    {
     "data": {
      "text/plain": [
       "<AxesSubplot:>"
      ]
     },
     "execution_count": 4,
     "metadata": {},
     "output_type": "execute_result"
    },
    {
     "data": {
      "image/png": "[encoded data removed]",
      "text/plain": [
       "<Figure size 432x288 with 1 Axes>"
      ]
     },
     "metadata": {
      "needs_background": "light"
     },
     "output_type": "display_data"
    }
   ],
   "source": [
    "# check if there are any Null values\n",
    "sns.heatmap(salary_df.isnull(), yticklabels = False, cbar = False, cmap=\"Blues\")\n"
   ]
  },
  {
   "cell_type": "code",
   "execution_count": 5,
   "metadata": {
    "colab": {
     "base_uri": "https://localhost:8080/",
     "height": 272
    },
    "colab_type": "code",
    "id": "hMq3-KWOx0e1",
    "outputId": "22a5b184-1f07-46ef-dfc1-f8377fd7042f",
    "scrolled": true
   },
   "outputs": [
    {
     "name": "stdout",
     "output_type": "stream",
     "text": [
      "<class 'pandas.core.frame.DataFrame'>\n",
      "RangeIndex: 35 entries, 0 to 34\n",
      "Data columns (total 2 columns):\n",
      " #   Column           Non-Null Count  Dtype  \n",
      "---  ------           --------------  -----  \n",
      " 0   YearsExperience  35 non-null     float64\n",
      " 1   Salary           35 non-null     int64  \n",
      "dtypes: float64(1), int64(1)\n",
      "memory usage: 688.0 bytes\n"
     ]
    }
   ],
   "source": [
    "# Check the dataframe info\n",
    "\n",
    "salary_df.info()"
   ]
  },
  {
   "cell_type": "code",
   "execution_count": 6,
   "metadata": {
    "colab": {
     "base_uri": "https://localhost:8080/",
     "height": 297
    },
    "colab_type": "code",
    "id": "Nn1Oxk2SzPX3",
    "outputId": "95f0265a-5e75-4a32-d771-4b3d15850c3c"
   },
   "outputs": [
    {
     "data": {
      "text/html": [
       "<div>\n",
       "<style scoped>\n",
       "    .dataframe tbody tr th:only-of-type {\n",
       "        vertical-align: middle;\n",
       "    }\n",
       "\n",
       "    .dataframe tbody tr th {\n",
       "        vertical-align: top;\n",
       "    }\n",
       "\n",
       "    .dataframe thead th {\n",
       "        text-align: right;\n",
       "    }\n",
       "</style>\n",
       "<table border=\"1\" class=\"dataframe\">\n",
       "  <thead>\n",
       "    <tr style=\"text-align: right;\">\n",
       "      <th></th>\n",
       "      <th>YearsExperience</th>\n",
       "      <th>Salary</th>\n",
       "    </tr>\n",
       "  </thead>\n",
       "  <tbody>\n",
       "    <tr>\n",
       "      <th>count</th>\n",
       "      <td>35.000000</td>\n",
       "      <td>35.000000</td>\n",
       "    </tr>\n",
       "    <tr>\n",
       "      <th>mean</th>\n",
       "      <td>6.308571</td>\n",
       "      <td>83945.600000</td>\n",
       "    </tr>\n",
       "    <tr>\n",
       "      <th>std</th>\n",
       "      <td>3.618610</td>\n",
       "      <td>32162.673003</td>\n",
       "    </tr>\n",
       "    <tr>\n",
       "      <th>min</th>\n",
       "      <td>1.100000</td>\n",
       "      <td>37731.000000</td>\n",
       "    </tr>\n",
       "    <tr>\n",
       "      <th>25%</th>\n",
       "      <td>3.450000</td>\n",
       "      <td>57019.000000</td>\n",
       "    </tr>\n",
       "    <tr>\n",
       "      <th>50%</th>\n",
       "      <td>5.300000</td>\n",
       "      <td>81363.000000</td>\n",
       "    </tr>\n",
       "    <tr>\n",
       "      <th>75%</th>\n",
       "      <td>9.250000</td>\n",
       "      <td>113223.500000</td>\n",
       "    </tr>\n",
       "    <tr>\n",
       "      <th>max</th>\n",
       "      <td>13.500000</td>\n",
       "      <td>139465.000000</td>\n",
       "    </tr>\n",
       "  </tbody>\n",
       "</table>\n",
       "</div>"
      ],
      "text/plain": [
       "       YearsExperience         Salary\n",
       "count        35.000000      35.000000\n",
       "mean          6.308571   83945.600000\n",
       "std           3.618610   32162.673003\n",
       "min           1.100000   37731.000000\n",
       "25%           3.450000   57019.000000\n",
       "50%           5.300000   81363.000000\n",
       "75%           9.250000  113223.500000\n",
       "max          13.500000  139465.000000"
      ]
     },
     "execution_count": 6,
     "metadata": {},
     "output_type": "execute_result"
    }
   ],
   "source": [
    "# Statistical summary of the dataframe\n",
    "\n",
    "salary_df.describe()"
   ]
  },
  {
   "cell_type": "code",
   "execution_count": null,
   "metadata": {},
   "outputs": [],
   "source": []
  },
  {
   "cell_type": "code",
   "execution_count": null,
   "metadata": {},
   "outputs": [],
   "source": []
  },
  {
   "cell_type": "code",
   "execution_count": 7,
   "metadata": {},
   "outputs": [
    {
     "data": {
      "text/plain": [
       "array([[<AxesSubplot:title={'center':'YearsExperience'}>,\n",
       "        <AxesSubplot:title={'center':'Salary'}>]], dtype=object)"
      ]
     },
     "execution_count": 7,
     "metadata": {},
     "output_type": "execute_result"
    },
    {
     "data": {
      "image/png": "[encoded data removed]",
      "text/plain": [
       "<Figure size 1440x720 with 2 Axes>"
      ]
     },
     "metadata": {
      "needs_background": "light"
     },
     "output_type": "display_data"
    }
   ],
   "source": [
    "salary_df.hist(bins = 30, figsize = (20,10), color = 'r')\n"
   ]
  },
  {
   "cell_type": "code",
   "execution_count": 8,
   "metadata": {
    "colab": {
     "base_uri": "https://localhost:8080/",
     "height": 1000
    },
    "colab_type": "code",
    "id": "Ka9uFRXSkWHw",
    "outputId": "f42a681e-93d4-4b1f-a29c-f58fc8a6f974"
   },
   "outputs": [
    {
     "data": {
      "text/plain": [
       "<seaborn.axisgrid.PairGrid at 0x7f3b58148438>"
      ]
     },
     "execution_count": 8,
     "metadata": {},
     "output_type": "execute_result"
    },
    {
     "data": {
      "image/png": "[encoded data removed]",
      "text/plain": [
       "<Figure size 360x360 with 6 Axes>"
      ]
     },
     "metadata": {
      "needs_background": "light"
     },
     "output_type": "display_data"
    }
   ],
   "source": [
    "# plot pairplot\n",
    "\n",
    "sns.pairplot(salary_df)"
   ]
  },
  {
   "cell_type": "code",
   "execution_count": 9,
   "metadata": {
    "colab": {
     "base_uri": "https://localhost:8080/",
     "height": 297
    },
    "colab_type": "code",
    "id": "9q-tFxvskWDa",
    "outputId": "8834e9ec-7676-4e86-c5e7-20f4e9eccbcb"
   },
   "outputs": [
    {
     "data": {
      "image/png": "[encoded data removed]",
      "text/plain": [
       "<Figure size 432x288 with 2 Axes>"
      ]
     },
     "metadata": {
      "needs_background": "light"
     },
     "output_type": "display_data"
    }
   ],
   "source": [
    "corr_matrix = salary_df.corr()\n",
    "sns.heatmap(corr_matrix, annot = True,cmap = 'rainbow')\n",
    "plt.show()"
   ]
  },
  {
   "cell_type": "code",
   "execution_count": null,
   "metadata": {},
   "outputs": [],
   "source": []
  },
  {
   "cell_type": "code",
   "execution_count": null,
   "metadata": {},
   "outputs": [],
   "source": []
  },
  {
   "cell_type": "markdown",
   "metadata": {
    "colab_type": "text",
    "id": "53qDZFRn3-S1"
   },
   "source": [
    "# CREATE TRAINING AND TESTING DATASET"
   ]
  },
  {
   "cell_type": "code",
   "execution_count": 10,
   "metadata": {
    "colab": {},
    "colab_type": "code",
    "id": "4OXZB2F21e4H"
   },
   "outputs": [],
   "source": [
    "X = salary_df[['YearsExperience']]\n",
    "y = salary_df[['Salary']]\n"
   ]
  },
  {
   "cell_type": "code",
   "execution_count": 11,
   "metadata": {
    "scrolled": true
   },
   "outputs": [
    {
     "data": {
      "text/html": [
       "<div>\n",
       "<style scoped>\n",
       "    .dataframe tbody tr th:only-of-type {\n",
       "        vertical-align: middle;\n",
       "    }\n",
       "\n",
       "    .dataframe tbody tr th {\n",
       "        vertical-align: top;\n",
       "    }\n",
       "\n",
       "    .dataframe thead th {\n",
       "        text-align: right;\n",
       "    }\n",
       "</style>\n",
       "<table border=\"1\" class=\"dataframe\">\n",
       "  <thead>\n",
       "    <tr style=\"text-align: right;\">\n",
       "      <th></th>\n",
       "      <th>YearsExperience</th>\n",
       "    </tr>\n",
       "  </thead>\n",
       "  <tbody>\n",
       "    <tr>\n",
       "      <th>0</th>\n",
       "      <td>1.1</td>\n",
       "    </tr>\n",
       "    <tr>\n",
       "      <th>1</th>\n",
       "      <td>1.3</td>\n",
       "    </tr>\n",
       "    <tr>\n",
       "      <th>2</th>\n",
       "      <td>1.5</td>\n",
       "    </tr>\n",
       "    <tr>\n",
       "      <th>3</th>\n",
       "      <td>2.0</td>\n",
       "    </tr>\n",
       "    <tr>\n",
       "      <th>4</th>\n",
       "      <td>2.2</td>\n",
       "    </tr>\n",
       "    <tr>\n",
       "      <th>5</th>\n",
       "      <td>2.9</td>\n",
       "    </tr>\n",
       "    <tr>\n",
       "      <th>6</th>\n",
       "      <td>3.0</td>\n",
       "    </tr>\n",
       "    <tr>\n",
       "      <th>7</th>\n",
       "      <td>3.2</td>\n",
       "    </tr>\n",
       "    <tr>\n",
       "      <th>8</th>\n",
       "      <td>3.2</td>\n",
       "    </tr>\n",
       "    <tr>\n",
       "      <th>9</th>\n",
       "      <td>3.7</td>\n",
       "    </tr>\n",
       "    <tr>\n",
       "      <th>10</th>\n",
       "      <td>3.9</td>\n",
       "    </tr>\n",
       "    <tr>\n",
       "      <th>11</th>\n",
       "      <td>4.0</td>\n",
       "    </tr>\n",
       "    <tr>\n",
       "      <th>12</th>\n",
       "      <td>4.0</td>\n",
       "    </tr>\n",
       "    <tr>\n",
       "      <th>13</th>\n",
       "      <td>4.1</td>\n",
       "    </tr>\n",
       "    <tr>\n",
       "      <th>14</th>\n",
       "      <td>4.5</td>\n",
       "    </tr>\n",
       "    <tr>\n",
       "      <th>15</th>\n",
       "      <td>4.9</td>\n",
       "    </tr>\n",
       "    <tr>\n",
       "      <th>16</th>\n",
       "      <td>5.1</td>\n",
       "    </tr>\n",
       "    <tr>\n",
       "      <th>17</th>\n",
       "      <td>5.3</td>\n",
       "    </tr>\n",
       "    <tr>\n",
       "      <th>18</th>\n",
       "      <td>5.9</td>\n",
       "    </tr>\n",
       "    <tr>\n",
       "      <th>19</th>\n",
       "      <td>6.0</td>\n",
       "    </tr>\n",
       "    <tr>\n",
       "      <th>20</th>\n",
       "      <td>6.8</td>\n",
       "    </tr>\n",
       "    <tr>\n",
       "      <th>21</th>\n",
       "      <td>7.1</td>\n",
       "    </tr>\n",
       "    <tr>\n",
       "      <th>22</th>\n",
       "      <td>7.9</td>\n",
       "    </tr>\n",
       "    <tr>\n",
       "      <th>23</th>\n",
       "      <td>8.2</td>\n",
       "    </tr>\n",
       "    <tr>\n",
       "      <th>24</th>\n",
       "      <td>8.7</td>\n",
       "    </tr>\n",
       "    <tr>\n",
       "      <th>25</th>\n",
       "      <td>9.0</td>\n",
       "    </tr>\n",
       "    <tr>\n",
       "      <th>26</th>\n",
       "      <td>9.5</td>\n",
       "    </tr>\n",
       "    <tr>\n",
       "      <th>27</th>\n",
       "      <td>9.6</td>\n",
       "    </tr>\n",
       "    <tr>\n",
       "      <th>28</th>\n",
       "      <td>10.3</td>\n",
       "    </tr>\n",
       "    <tr>\n",
       "      <th>29</th>\n",
       "      <td>10.5</td>\n",
       "    </tr>\n",
       "    <tr>\n",
       "      <th>30</th>\n",
       "      <td>11.2</td>\n",
       "    </tr>\n",
       "    <tr>\n",
       "      <th>31</th>\n",
       "      <td>11.5</td>\n",
       "    </tr>\n",
       "    <tr>\n",
       "      <th>32</th>\n",
       "      <td>12.3</td>\n",
       "    </tr>\n",
       "    <tr>\n",
       "      <th>33</th>\n",
       "      <td>12.9</td>\n",
       "    </tr>\n",
       "    <tr>\n",
       "      <th>34</th>\n",
       "      <td>13.5</td>\n",
       "    </tr>\n",
       "  </tbody>\n",
       "</table>\n",
       "</div>"
      ],
      "text/plain": [
       "    YearsExperience\n",
       "0               1.1\n",
       "1               1.3\n",
       "2               1.5\n",
       "3               2.0\n",
       "4               2.2\n",
       "5               2.9\n",
       "6               3.0\n",
       "7               3.2\n",
       "8               3.2\n",
       "9               3.7\n",
       "10              3.9\n",
       "11              4.0\n",
       "12              4.0\n",
       "13              4.1\n",
       "14              4.5\n",
       "15              4.9\n",
       "16              5.1\n",
       "17              5.3\n",
       "18              5.9\n",
       "19              6.0\n",
       "20              6.8\n",
       "21              7.1\n",
       "22              7.9\n",
       "23              8.2\n",
       "24              8.7\n",
       "25              9.0\n",
       "26              9.5\n",
       "27              9.6\n",
       "28             10.3\n",
       "29             10.5\n",
       "30             11.2\n",
       "31             11.5\n",
       "32             12.3\n",
       "33             12.9\n",
       "34             13.5"
      ]
     },
     "execution_count": 11,
     "metadata": {},
     "output_type": "execute_result"
    }
   ],
   "source": [
    "X"
   ]
  },
  {
   "cell_type": "code",
   "execution_count": 12,
   "metadata": {},
   "outputs": [
    {
     "data": {
      "text/html": [
       "<div>\n",
       "<style scoped>\n",
       "    .dataframe tbody tr th:only-of-type {\n",
       "        vertical-align: middle;\n",
       "    }\n",
       "\n",
       "    .dataframe tbody tr th {\n",
       "        vertical-align: top;\n",
       "    }\n",
       "\n",
       "    .dataframe thead th {\n",
       "        text-align: right;\n",
       "    }\n",
       "</style>\n",
       "<table border=\"1\" class=\"dataframe\">\n",
       "  <thead>\n",
       "    <tr style=\"text-align: right;\">\n",
       "      <th></th>\n",
       "      <th>Salary</th>\n",
       "    </tr>\n",
       "  </thead>\n",
       "  <tbody>\n",
       "    <tr>\n",
       "      <th>0</th>\n",
       "      <td>39343</td>\n",
       "    </tr>\n",
       "    <tr>\n",
       "      <th>1</th>\n",
       "      <td>46205</td>\n",
       "    </tr>\n",
       "    <tr>\n",
       "      <th>2</th>\n",
       "      <td>37731</td>\n",
       "    </tr>\n",
       "    <tr>\n",
       "      <th>3</th>\n",
       "      <td>43525</td>\n",
       "    </tr>\n",
       "    <tr>\n",
       "      <th>4</th>\n",
       "      <td>39891</td>\n",
       "    </tr>\n",
       "    <tr>\n",
       "      <th>5</th>\n",
       "      <td>56642</td>\n",
       "    </tr>\n",
       "    <tr>\n",
       "      <th>6</th>\n",
       "      <td>60150</td>\n",
       "    </tr>\n",
       "    <tr>\n",
       "      <th>7</th>\n",
       "      <td>54445</td>\n",
       "    </tr>\n",
       "    <tr>\n",
       "      <th>8</th>\n",
       "      <td>64445</td>\n",
       "    </tr>\n",
       "    <tr>\n",
       "      <th>9</th>\n",
       "      <td>57189</td>\n",
       "    </tr>\n",
       "    <tr>\n",
       "      <th>10</th>\n",
       "      <td>63218</td>\n",
       "    </tr>\n",
       "    <tr>\n",
       "      <th>11</th>\n",
       "      <td>55794</td>\n",
       "    </tr>\n",
       "    <tr>\n",
       "      <th>12</th>\n",
       "      <td>56957</td>\n",
       "    </tr>\n",
       "    <tr>\n",
       "      <th>13</th>\n",
       "      <td>57081</td>\n",
       "    </tr>\n",
       "    <tr>\n",
       "      <th>14</th>\n",
       "      <td>61111</td>\n",
       "    </tr>\n",
       "    <tr>\n",
       "      <th>15</th>\n",
       "      <td>67938</td>\n",
       "    </tr>\n",
       "    <tr>\n",
       "      <th>16</th>\n",
       "      <td>66029</td>\n",
       "    </tr>\n",
       "    <tr>\n",
       "      <th>17</th>\n",
       "      <td>83088</td>\n",
       "    </tr>\n",
       "    <tr>\n",
       "      <th>18</th>\n",
       "      <td>81363</td>\n",
       "    </tr>\n",
       "    <tr>\n",
       "      <th>19</th>\n",
       "      <td>93940</td>\n",
       "    </tr>\n",
       "    <tr>\n",
       "      <th>20</th>\n",
       "      <td>91738</td>\n",
       "    </tr>\n",
       "    <tr>\n",
       "      <th>21</th>\n",
       "      <td>98273</td>\n",
       "    </tr>\n",
       "    <tr>\n",
       "      <th>22</th>\n",
       "      <td>101302</td>\n",
       "    </tr>\n",
       "    <tr>\n",
       "      <th>23</th>\n",
       "      <td>113812</td>\n",
       "    </tr>\n",
       "    <tr>\n",
       "      <th>24</th>\n",
       "      <td>109431</td>\n",
       "    </tr>\n",
       "    <tr>\n",
       "      <th>25</th>\n",
       "      <td>105582</td>\n",
       "    </tr>\n",
       "    <tr>\n",
       "      <th>26</th>\n",
       "      <td>116969</td>\n",
       "    </tr>\n",
       "    <tr>\n",
       "      <th>27</th>\n",
       "      <td>112635</td>\n",
       "    </tr>\n",
       "    <tr>\n",
       "      <th>28</th>\n",
       "      <td>122391</td>\n",
       "    </tr>\n",
       "    <tr>\n",
       "      <th>29</th>\n",
       "      <td>121872</td>\n",
       "    </tr>\n",
       "    <tr>\n",
       "      <th>30</th>\n",
       "      <td>127345</td>\n",
       "    </tr>\n",
       "    <tr>\n",
       "      <th>31</th>\n",
       "      <td>126756</td>\n",
       "    </tr>\n",
       "    <tr>\n",
       "      <th>32</th>\n",
       "      <td>128765</td>\n",
       "    </tr>\n",
       "    <tr>\n",
       "      <th>33</th>\n",
       "      <td>135675</td>\n",
       "    </tr>\n",
       "    <tr>\n",
       "      <th>34</th>\n",
       "      <td>139465</td>\n",
       "    </tr>\n",
       "  </tbody>\n",
       "</table>\n",
       "</div>"
      ],
      "text/plain": [
       "    Salary\n",
       "0    39343\n",
       "1    46205\n",
       "2    37731\n",
       "3    43525\n",
       "4    39891\n",
       "5    56642\n",
       "6    60150\n",
       "7    54445\n",
       "8    64445\n",
       "9    57189\n",
       "10   63218\n",
       "11   55794\n",
       "12   56957\n",
       "13   57081\n",
       "14   61111\n",
       "15   67938\n",
       "16   66029\n",
       "17   83088\n",
       "18   81363\n",
       "19   93940\n",
       "20   91738\n",
       "21   98273\n",
       "22  101302\n",
       "23  113812\n",
       "24  109431\n",
       "25  105582\n",
       "26  116969\n",
       "27  112635\n",
       "28  122391\n",
       "29  121872\n",
       "30  127345\n",
       "31  126756\n",
       "32  128765\n",
       "33  135675\n",
       "34  139465"
      ]
     },
     "execution_count": 12,
     "metadata": {},
     "output_type": "execute_result"
    }
   ],
   "source": [
    "y"
   ]
  },
  {
   "cell_type": "code",
   "execution_count": 13,
   "metadata": {
    "colab": {
     "base_uri": "https://localhost:8080/",
     "height": 34
    },
    "colab_type": "code",
    "id": "XpGU63Ne1e9P",
    "outputId": "e16c74ca-dc1c-416c-dc44-7f927bb99bc6"
   },
   "outputs": [
    {
     "data": {
      "text/plain": [
       "(35, 1)"
      ]
     },
     "execution_count": 13,
     "metadata": {},
     "output_type": "execute_result"
    }
   ],
   "source": [
    "X.shape"
   ]
  },
  {
   "cell_type": "code",
   "execution_count": 14,
   "metadata": {
    "colab": {
     "base_uri": "https://localhost:8080/",
     "height": 34
    },
    "colab_type": "code",
    "id": "OjGj0RALA0qZ",
    "outputId": "26559a6c-880b-45b4-a1e8-3c4b92bea889"
   },
   "outputs": [
    {
     "data": {
      "text/plain": [
       "(35, 1)"
      ]
     },
     "execution_count": 14,
     "metadata": {},
     "output_type": "execute_result"
    }
   ],
   "source": [
    "y.shape"
   ]
  },
  {
   "cell_type": "code",
   "execution_count": 15,
   "metadata": {
    "colab": {},
    "colab_type": "code",
    "id": "jIeiK1maA6mm"
   },
   "outputs": [],
   "source": [
    "X = np.array(X).astype('float32')\n",
    "y = np.array(y).astype('float32')"
   ]
  },
  {
   "cell_type": "code",
   "execution_count": 16,
   "metadata": {},
   "outputs": [
    {
     "data": {
      "text/plain": [
       "array([[ 1.1],\n",
       "       [ 1.3],\n",
       "       [ 1.5],\n",
       "       [ 2. ],\n",
       "       [ 2.2],\n",
       "       [ 2.9],\n",
       "       [ 3. ],\n",
       "       [ 3.2],\n",
       "       [ 3.2],\n",
       "       [ 3.7],\n",
       "       [ 3.9],\n",
       "       [ 4. ],\n",
       "       [ 4. ],\n",
       "       [ 4.1],\n",
       "       [ 4.5],\n",
       "       [ 4.9],\n",
       "       [ 5.1],\n",
       "       [ 5.3],\n",
       "       [ 5.9],\n",
       "       [ 6. ],\n",
       "       [ 6.8],\n",
       "       [ 7.1],\n",
       "       [ 7.9],\n",
       "       [ 8.2],\n",
       "       [ 8.7],\n",
       "       [ 9. ],\n",
       "       [ 9.5],\n",
       "       [ 9.6],\n",
       "       [10.3],\n",
       "       [10.5],\n",
       "       [11.2],\n",
       "       [11.5],\n",
       "       [12.3],\n",
       "       [12.9],\n",
       "       [13.5]], dtype=float32)"
      ]
     },
     "execution_count": 16,
     "metadata": {},
     "output_type": "execute_result"
    }
   ],
   "source": [
    "# Only take the numerical variables and scale them\n",
    "X "
   ]
  },
  {
   "cell_type": "code",
   "execution_count": 17,
   "metadata": {
    "colab": {},
    "colab_type": "code",
    "id": "GoReLFfnA6uF"
   },
   "outputs": [],
   "source": [
    "# split the data into test and train sets\n",
    "from sklearn.model_selection import train_test_split\n",
    "\n",
    "X_train, X_test, y_train, y_test = train_test_split(X, y, test_size = 0.2)\n"
   ]
  },
  {
   "cell_type": "code",
   "execution_count": null,
   "metadata": {},
   "outputs": [],
   "source": []
  },
  {
   "cell_type": "code",
   "execution_count": null,
   "metadata": {},
   "outputs": [],
   "source": []
  },
  {
   "cell_type": "markdown",
   "metadata": {
    "colab_type": "text",
    "id": "idWHLv5alF4C"
   },
   "source": [
    "# TRAIN A LINEAR REGRESSION MODEL IN SK-LEARN (NOTE THAT SAGEMAKER BUILT-IN ALGORITHMS ARE NOT USED HERE)"
   ]
  },
  {
   "cell_type": "code",
   "execution_count": 18,
   "metadata": {
    "colab": {
     "base_uri": "https://localhost:8080/",
     "height": 34
    },
    "colab_type": "code",
    "id": "yHL-6mKwBURs",
    "outputId": "10d71b6d-9c2b-4bab-8b27-d3c5883e6a25"
   },
   "outputs": [
    {
     "data": {
      "text/plain": [
       "LinearRegression()"
      ]
     },
     "execution_count": 18,
     "metadata": {},
     "output_type": "execute_result"
    }
   ],
   "source": [
    "# using linear regression model\n",
    "from sklearn.linear_model import LinearRegression\n",
    "from sklearn.metrics import mean_squared_error, accuracy_score\n",
    "\n",
    "regresssion_model_sklearn = LinearRegression(fit_intercept = True)\n",
    "regresssion_model_sklearn.fit(X_train, y_train)\n"
   ]
  },
  {
   "cell_type": "code",
   "execution_count": 19,
   "metadata": {
    "colab": {
     "base_uri": "https://localhost:8080/",
     "height": 34
    },
    "colab_type": "code",
    "id": "elD8m5N0BgEY",
    "outputId": "16a1813d-a0f1-4d1f-dc02-d7ad5a445417"
   },
   "outputs": [
    {
     "data": {
      "text/plain": [
       "0.8543922175635643"
      ]
     },
     "execution_count": 19,
     "metadata": {},
     "output_type": "execute_result"
    }
   ],
   "source": [
    "regresssion_model_sklearn_accuracy = regresssion_model_sklearn.score(X_test, y_test)\n",
    "regresssion_model_sklearn_accuracy"
   ]
  },
  {
   "cell_type": "code",
   "execution_count": 20,
   "metadata": {},
   "outputs": [
    {
     "name": "stdout",
     "output_type": "stream",
     "text": [
      "Linear Model Coefficient (m):  [[9533.23]]\n",
      "Linear Model Coefficient (b):  [24785.445]\n"
     ]
    }
   ],
   "source": [
    "print('Linear Model Coefficient (m): ', regresssion_model_sklearn.coef_)\n",
    "print('Linear Model Coefficient (b): ', regresssion_model_sklearn.intercept_)"
   ]
  },
  {
   "cell_type": "code",
   "execution_count": null,
   "metadata": {},
   "outputs": [],
   "source": []
  },
  {
   "cell_type": "code",
   "execution_count": null,
   "metadata": {},
   "outputs": [],
   "source": []
  },
  {
   "cell_type": "markdown",
   "metadata": {},
   "source": [
    "# EVALUATE TRAINED MODEL PERFORMANCE (NOTE THAT SAGEMAKER BUILT-IN ALGORITHMS ARE NOT USED HERE)"
   ]
  },
  {
   "cell_type": "code",
   "execution_count": 21,
   "metadata": {},
   "outputs": [],
   "source": [
    "y_predict = regresssion_model_sklearn.predict(X_test)"
   ]
  },
  {
   "cell_type": "code",
   "execution_count": 22,
   "metadata": {
    "scrolled": true
   },
   "outputs": [
    {
     "data": {
      "text/plain": [
       "array([[134417.6 ],\n",
       "       [142044.19],\n",
       "       [153484.06],\n",
       "       [ 75311.57],\n",
       "       [147764.12],\n",
       "       [ 55291.78],\n",
       "       [131557.62]], dtype=float32)"
      ]
     },
     "execution_count": 22,
     "metadata": {},
     "output_type": "execute_result"
    }
   ],
   "source": [
    "y_predict"
   ]
  },
  {
   "cell_type": "code",
   "execution_count": 23,
   "metadata": {},
   "outputs": [
    {
     "data": {
      "text/plain": [
       "Text(0.5, 1.0, 'Salary vs. Years of Experience')"
      ]
     },
     "execution_count": 23,
     "metadata": {},
     "output_type": "execute_result"
    },
    {
     "data": {
      "image/png": "[encoded data removed]",
      "text/plain": [
       "<Figure size 432x288 with 1 Axes>"
      ]
     },
     "metadata": {
      "needs_background": "light"
     },
     "output_type": "display_data"
    }
   ],
   "source": [
    "plt.scatter(X_train, y_train, color = 'gray')\n",
    "plt.plot(X_train, regresssion_model_sklearn.predict(X_train), color = 'red')\n",
    "plt.ylabel('Salary')\n",
    "plt.xlabel('Number of Years of Experience')\n",
    "plt.title('Salary vs. Years of Experience')"
   ]
  },
  {
   "cell_type": "code",
   "execution_count": null,
   "metadata": {},
   "outputs": [],
   "source": []
  },
  {
   "cell_type": "markdown",
   "metadata": {},
   "source": [
    "# TRAIN A LINEAR LEARNER MODEL USING SAGEMAKER"
   ]
  },
  {
   "cell_type": "code",
   "execution_count": 24,
   "metadata": {},
   "outputs": [
    {
     "name": "stdout",
     "output_type": "stream",
     "text": [
      "arn:aws:iam::918179651734:role/service-role/AmazonSageMaker-ExecutionRole-20211029T203179\n"
     ]
    }
   ],
   "source": [
    "# Boto3 is the Amazon Web Services (AWS) Software Development Kit (SDK) for Python\n",
    "# Boto3 allows Python developer to write software that makes use of services like Amazon S3 and Amazon EC2\n",
    "\n",
    "import sagemaker\n",
    "import boto3\n",
    "from sagemaker import Session\n",
    "\n",
    "# Let's create a Sagemaker session\n",
    "sagemaker_session = sagemaker.Session()\n",
    "bucket = Session().default_bucket()\n",
    "# Let's define the S3 bucket and prefix that we want to use in this session\n",
    "# bucket = 'sagemaker-practica' # bucket named 'sagemaker-practical' was created beforehand\n",
    "prefix = 'linear_learner' # prefix is the subfolder within the bucket.\n",
    "\n",
    "# Let's get the execution role for the notebook instance. \n",
    "# This is the IAM role that you created when you created your notebook instance. You pass the role to the training job.\n",
    "# Note that AWS Identity and Access Management (IAM) role that Amazon SageMaker can assume to perform tasks on your behalf (for example, reading training results, called model artifacts, from the S3 bucket and writing training results to Amazon S3). \n",
    "role = sagemaker.get_execution_role()\n",
    "print(role)"
   ]
  },
  {
   "cell_type": "code",
   "execution_count": 25,
   "metadata": {},
   "outputs": [
    {
     "data": {
      "text/plain": [
       "(28, 1)"
      ]
     },
     "execution_count": 25,
     "metadata": {},
     "output_type": "execute_result"
    }
   ],
   "source": [
    "X_train.shape"
   ]
  },
  {
   "cell_type": "code",
   "execution_count": 26,
   "metadata": {},
   "outputs": [],
   "source": [
    "y_train = y_train[:,0]"
   ]
  },
  {
   "cell_type": "code",
   "execution_count": 27,
   "metadata": {},
   "outputs": [
    {
     "data": {
      "text/plain": [
       "(28,)"
      ]
     },
     "execution_count": 27,
     "metadata": {},
     "output_type": "execute_result"
    }
   ],
   "source": [
    "y_train.shape"
   ]
  },
  {
   "cell_type": "code",
   "execution_count": 28,
   "metadata": {},
   "outputs": [
    {
     "data": {
      "text/plain": [
       "0"
      ]
     },
     "execution_count": 28,
     "metadata": {},
     "output_type": "execute_result"
    }
   ],
   "source": [
    "import io # The io module allows for dealing with various types of I/O (text I/O, binary I/O and raw I/O). \n",
    "import numpy as np\n",
    "import sagemaker.amazon.common as smac # sagemaker common libary\n",
    "\n",
    "# Code below converts the data in numpy array format to RecordIO format\n",
    "# This is the format required by Sagemaker Linear Learner \n",
    "\n",
    "buf = io.BytesIO() # create an in-memory byte array (buf is a buffer I will be writing to)\n",
    "smac.write_numpy_to_dense_tensor(buf, X_train, y_train)\n",
    "buf.seek(0) \n",
    "# When you write to in-memory byte arrays, it increments 1 every time you write to it\n",
    "# Let's reset that back to zero \n"
   ]
  },
  {
   "cell_type": "code",
   "execution_count": 29,
   "metadata": {},
   "outputs": [
    {
     "name": "stdout",
     "output_type": "stream",
     "text": [
      "uploaded training data location: s3://sagemaker-us-east-2-918179651734/linear_learner/train/linear-train-data\n"
     ]
    }
   ],
   "source": [
    "import os\n",
    "\n",
    "# Code to upload RecordIO data to S3\n",
    " \n",
    "# Key refers to the name of the file    \n",
    "key = 'linear-train-data'\n",
    "\n",
    "# The following code uploads the data in record-io format to S3 bucket to be accessed later for training\n",
    "boto3.resource('s3').Bucket(bucket).Object(os.path.join(prefix, 'train', key)).upload_fileobj(buf)\n",
    "\n",
    "# Let's print out the training data location in s3\n",
    "s3_train_data = 's3://{}/{}/train/{}'.format(bucket, prefix, key)\n",
    "print('uploaded training data location: {}'.format(s3_train_data))"
   ]
  },
  {
   "cell_type": "code",
   "execution_count": 30,
   "metadata": {},
   "outputs": [
    {
     "data": {
      "text/plain": [
       "(7, 1)"
      ]
     },
     "execution_count": 30,
     "metadata": {},
     "output_type": "execute_result"
    }
   ],
   "source": [
    "X_test.shape"
   ]
  },
  {
   "cell_type": "code",
   "execution_count": 31,
   "metadata": {},
   "outputs": [
    {
     "data": {
      "text/plain": [
       "(7, 1)"
      ]
     },
     "execution_count": 31,
     "metadata": {},
     "output_type": "execute_result"
    }
   ],
   "source": [
    "y_test.shape"
   ]
  },
  {
   "cell_type": "code",
   "execution_count": 32,
   "metadata": {},
   "outputs": [],
   "source": [
    "# Make sure that the target label is a vector\n",
    "y_test = y_test[:,0]\n"
   ]
  },
  {
   "cell_type": "code",
   "execution_count": 33,
   "metadata": {},
   "outputs": [
    {
     "data": {
      "text/plain": [
       "0"
      ]
     },
     "execution_count": 33,
     "metadata": {},
     "output_type": "execute_result"
    }
   ],
   "source": [
    "# Code to upload RecordIO data to S3\n",
    "\n",
    "buf = io.BytesIO() # create an in-memory byte array (buf is a buffer I will be writing to)\n",
    "smac.write_numpy_to_dense_tensor(buf, X_test, y_test)\n",
    "buf.seek(0) \n",
    "# When you write to in-memory byte arrays, it increments 1 every time you write to it\n",
    "# Let's reset that back to zero \n"
   ]
  },
  {
   "cell_type": "code",
   "execution_count": 34,
   "metadata": {},
   "outputs": [
    {
     "name": "stdout",
     "output_type": "stream",
     "text": [
      "uploaded training data location: s3://sagemaker-us-east-2-918179651734/linear_learner/test/linear-test-data\n"
     ]
    }
   ],
   "source": [
    "# Key refers to the name of the file    \n",
    "key = 'linear-test-data'\n",
    "\n",
    "# The following code uploads the data in record-io format to S3 bucket to be accessed later for training\n",
    "boto3.resource('s3').Bucket(bucket).Object(os.path.join(prefix, 'test', key)).upload_fileobj(buf)\n",
    "\n",
    "# Let's print out the testing data location in s3\n",
    "s3_test_data = 's3://{}/{}/test/{}'.format(bucket, prefix, key)\n",
    "print('uploaded training data location: {}'.format(s3_test_data))"
   ]
  },
  {
   "cell_type": "code",
   "execution_count": 35,
   "metadata": {},
   "outputs": [
    {
     "name": "stdout",
     "output_type": "stream",
     "text": [
      "Training artifacts will be uploaded to: s3://sagemaker-us-east-2-918179651734/linear_learner/output\n"
     ]
    }
   ],
   "source": [
    "# create an output placeholder in S3 bucket to store the linear learner output\n",
    "\n",
    "output_location = 's3://{}/{}/output'.format(bucket, prefix)\n",
    "print('Training artifacts will be uploaded to: {}'.format(output_location))"
   ]
  },
  {
   "cell_type": "code",
   "execution_count": 36,
   "metadata": {},
   "outputs": [
    {
     "name": "stderr",
     "output_type": "stream",
     "text": [
      "The method get_image_uri has been renamed in sagemaker>=2.\n",
      "See: https://sagemaker.readthedocs.io/en/stable/v2.html for details.\n",
      "Defaulting to the only supported framework/algorithm version: 1. Ignoring framework/algorithm version: 1.\n"
     ]
    }
   ],
   "source": [
    "# This code is used to get the training container of sagemaker built-in algorithms\n",
    "# all we have to do is to specify the name of the algorithm, that we want to use\n",
    "\n",
    "# Let's obtain a reference to the linearLearner container image\n",
    "# Note that all regression models are named estimators\n",
    "# You don't have to specify (hardcode) the region, get_image_uri will get the current region name using boto3.Session\n",
    "\n",
    "from sagemaker.amazon.amazon_estimator import get_image_uri\n",
    "\n",
    "container = get_image_uri(boto3.Session().region_name, 'linear-learner')"
   ]
  },
  {
   "cell_type": "code",
   "execution_count": 37,
   "metadata": {},
   "outputs": [
    {
     "name": "stderr",
     "output_type": "stream",
     "text": [
      "train_instance_count has been renamed in sagemaker>=2.\n",
      "See: https://sagemaker.readthedocs.io/en/stable/v2.html for details.\n",
      "train_instance_type has been renamed in sagemaker>=2.\n",
      "See: https://sagemaker.readthedocs.io/en/stable/v2.html for details.\n"
     ]
    },
    {
     "name": "stdout",
     "output_type": "stream",
     "text": [
      "2021-10-29 16:02:43 Starting - Starting the training job...\n",
      "2021-10-29 16:03:07 Starting - Launching requested ML instancesProfilerReport-1635523363: InProgress\n",
      "...\n",
      "2021-10-29 16:03:41 Starting - Preparing the instances for training............\n",
      "2021-10-29 16:05:37 Downloading - Downloading input data...\n",
      "2021-10-29 16:06:14 Training - Training image download completed. Training in progress..\u001b[34mDocker entrypoint called with argument(s): train\u001b[0m\n",
      "\u001b[34mRunning default environment configuration script\u001b[0m\n",
      "\u001b[34m[10/29/2021 16:06:19 INFO 140092017682240] Reading default configuration from /opt/amazon/lib/python3.7/site-packages/algorithm/resources/default-input.json: {'mini_batch_size': '1000', 'epochs': '15', 'feature_dim': 'auto', 'use_bias': 'true', 'binary_classifier_model_selection_criteria': 'accuracy', 'f_beta': '1.0', 'target_recall': '0.8', 'target_precision': '0.8', 'num_models': 'auto', 'num_calibration_samples': '10000000', 'init_method': 'uniform', 'init_scale': '0.07', 'init_sigma': '0.01', 'init_bias': '0.0', 'optimizer': 'auto', 'loss': 'auto', 'margin': '1.0', 'quantile': '0.5', 'loss_insensitivity': '0.01', 'huber_delta': '1.0', 'num_classes': '1', 'accuracy_top_k': '3', 'wd': 'auto', 'l1': 'auto', 'momentum': 'auto', 'learning_rate': 'auto', 'beta_1': 'auto', 'beta_2': 'auto', 'bias_lr_mult': 'auto', 'bias_wd_mult': 'auto', 'use_lr_scheduler': 'true', 'lr_scheduler_step': 'auto', 'lr_scheduler_factor': 'auto', 'lr_scheduler_minimum_lr': 'auto', 'positive_example_weight_mult': '1.0', 'balance_multiclass_weights': 'false', 'normalize_data': 'true', 'normalize_label': 'auto', 'unbias_data': 'auto', 'unbias_label': 'auto', 'num_point_for_scaler': '10000', '_kvstore': 'auto', '_num_gpus': 'auto', '_num_kv_servers': 'auto', '_log_level': 'info', '_tuning_objective_metric': '', 'early_stopping_patience': '3', 'early_stopping_tolerance': '0.001', '_enable_profiler': 'false'}\u001b[0m\n",
      "\u001b[34m[10/29/2021 16:06:19 INFO 140092017682240] Merging with provided configuration from /opt/ml/input/config/hyperparameters.json: {'loss': 'absolute_loss', 'feature_dim': '1', 'num_models': '32', 'predictor_type': 'regressor', 'epochs': '5', 'mini_batch_size': '5'}\u001b[0m\n",
      "\u001b[34m[10/29/2021 16:06:19 INFO 140092017682240] Final configuration: {'mini_batch_size': '5', 'epochs': '5', 'feature_dim': '1', 'use_bias': 'true', 'binary_classifier_model_selection_criteria': 'accuracy', 'f_beta': '1.0', 'target_recall': '0.8', 'target_precision': '0.8', 'num_models': '32', 'num_calibration_samples': '10000000', 'init_method': 'uniform', 'init_scale': '0.07', 'init_sigma': '0.01', 'init_bias': '0.0', 'optimizer': 'auto', 'loss': 'absolute_loss', 'margin': '1.0', 'quantile': '0.5', 'loss_insensitivity': '0.01', 'huber_delta': '1.0', 'num_classes': '1', 'accuracy_top_k': '3', 'wd': 'auto', 'l1': 'auto', 'momentum': 'auto', 'learning_rate': 'auto', 'beta_1': 'auto', 'beta_2': 'auto', 'bias_lr_mult': 'auto', 'bias_wd_mult': 'auto', 'use_lr_scheduler': 'true', 'lr_scheduler_step': 'auto', 'lr_scheduler_factor': 'auto', 'lr_scheduler_minimum_lr': 'auto', 'positive_example_weight_mult': '1.0', 'balance_multiclass_weights': 'false', 'normalize_data': 'true', 'normalize_label': 'auto', 'unbias_data': 'auto', 'unbias_label': 'auto', 'num_point_for_scaler': '10000', '_kvstore': 'auto', '_num_gpus': 'auto', '_num_kv_servers': 'auto', '_log_level': 'info', '_tuning_objective_metric': '', 'early_stopping_patience': '3', 'early_stopping_tolerance': '0.001', '_enable_profiler': 'false', 'predictor_type': 'regressor'}\u001b[0m\n",
      "\u001b[34m[10/29/2021 16:06:19 WARNING 140092017682240] Loggers have already been setup.\u001b[0m\n",
      "\u001b[34mProcess 1 is a worker.\u001b[0m\n",
      "\u001b[34m[10/29/2021 16:06:19 INFO 140092017682240] Using default worker.\u001b[0m\n",
      "\u001b[34m[10/29/2021 16:06:19 INFO 140092017682240] Checkpoint loading and saving are disabled.\u001b[0m\n",
      "\u001b[34m[2021-10-29 16:06:19.936] [tensorio] [info] epoch_stats={\"data_pipeline\": \"/opt/ml/input/data/train\", \"epoch\": 0, \"duration\": 13, \"num_examples\": 1, \"num_bytes\": 240}\u001b[0m\n",
      "\u001b[34m[10/29/2021 16:06:19 INFO 140092017682240] Create Store: local\u001b[0m\n",
      "\u001b[34m[2021-10-29 16:06:20.000] [tensorio] [info] epoch_stats={\"data_pipeline\": \"/opt/ml/input/data/train\", \"epoch\": 1, \"duration\": 63, \"num_examples\": 6, \"num_bytes\": 1344}\u001b[0m\n",
      "\u001b[34m[10/29/2021 16:06:20 INFO 140092017682240] Scaler algorithm parameters\n",
      " <algorithm.scaler.ScalerAlgorithmStable object at 0x7f69563386d0>\u001b[0m\n",
      "\u001b[34m[10/29/2021 16:06:20 INFO 140092017682240] Scaling model computed with parameters:\n",
      " {'stdev_label': \u001b[0m\n",
      "\u001b[34m[27187.814]\u001b[0m\n",
      "\u001b[34m<NDArray 1 @cpu(0)>, 'stdev_weight': \u001b[0m\n",
      "\u001b[34m[2.8632457]\u001b[0m\n",
      "\u001b[34m<NDArray 1 @cpu(0)>, 'mean_label': \u001b[0m\n",
      "\u001b[34m[76796.125]\u001b[0m\n",
      "\u001b[34m<NDArray 1 @cpu(0)>, 'mean_weight': \u001b[0m\n",
      "\u001b[34m[5.468]\u001b[0m\n",
      "\u001b[34m<NDArray 1 @cpu(0)>}\u001b[0m\n",
      "\u001b[34m[10/29/2021 16:06:20 INFO 140092017682240] nvidia-smi: took 0.030 seconds to run.\u001b[0m\n",
      "\u001b[34m[10/29/2021 16:06:20 INFO 140092017682240] nvidia-smi identified 0 GPUs.\u001b[0m\n",
      "\u001b[34m[10/29/2021 16:06:20 INFO 140092017682240] Number of GPUs being used: 0\u001b[0m\n",
      "\u001b[34m#metrics {\"StartTime\": 1635523580.104645, \"EndTime\": 1635523580.1046767, \"Dimensions\": {\"Algorithm\": \"Linear Learner\", \"Host\": \"algo-1\", \"Operation\": \"training\", \"Meta\": \"init_train_data_iter\"}, \"Metrics\": {\"Total Records Seen\": {\"sum\": 33.0, \"count\": 1, \"min\": 33, \"max\": 33}, \"Total Batches Seen\": {\"sum\": 7.0, \"count\": 1, \"min\": 7, \"max\": 7}, \"Max Records Seen Between Resets\": {\"sum\": 28.0, \"count\": 1, \"min\": 28, \"max\": 28}, \"Max Batches Seen Between Resets\": {\"sum\": 6.0, \"count\": 1, \"min\": 6, \"max\": 6}, \"Reset Count\": {\"sum\": 2.0, \"count\": 1, \"min\": 2, \"max\": 2}, \"Number of Records Since Last Reset\": {\"sum\": 0.0, \"count\": 1, \"min\": 0, \"max\": 0}, \"Number of Batches Since Last Reset\": {\"sum\": 0.0, \"count\": 1, \"min\": 0, \"max\": 0}}}\u001b[0m\n",
      "\u001b[34m[2021-10-29 16:06:20.217] [tensorio] [info] epoch_stats={\"data_pipeline\": \"/opt/ml/input/data/train\", \"epoch\": 4, \"duration\": 112, \"num_examples\": 6, \"num_bytes\": 1344}\u001b[0m\n",
      "\u001b[34m#metrics {\"StartTime\": 1635523580.2178724, \"EndTime\": 1635523580.2179494, \"Dimensions\": {\"Algorithm\": \"Linear Learner\", \"Host\": \"algo-1\", \"Operation\": \"training\", \"epoch\": 0, \"model\": 0}, \"Metrics\": {\"train_absolute_loss_objective\": {\"sum\": 0.8976002979278564, \"count\": 1, \"min\": 0.8976002979278564, \"max\": 0.8976002979278564}}}\u001b[0m\n",
      "\u001b[34m#metrics {\"StartTime\": 1635523580.2180278, \"EndTime\": 1635523580.2180471, \"Dimensions\": {\"Algorithm\": \"Linear Learner\", \"Host\": \"algo-1\", \"Operation\": \"training\", \"epoch\": 0, \"model\": 1}, \"Metrics\": {\"train_absolute_loss_objective\": {\"sum\": 0.9176372528076172, \"count\": 1, \"min\": 0.9176372528076172, \"max\": 0.9176372528076172}}}\u001b[0m\n",
      "\u001b[34m#metrics {\"StartTime\": 1635523580.218101, \"EndTime\": 1635523580.218119, \"Dimensions\": {\"Algorithm\": \"Linear Learner\", \"Host\": \"algo-1\", \"Operation\": \"training\", \"epoch\": 0, \"model\": 2}, \"Metrics\": {\"train_absolute_loss_objective\": {\"sum\": 0.9000275230407715, \"count\": 1, \"min\": 0.9000275230407715, \"max\": 0.9000275230407715}}}\u001b[0m\n",
      "\u001b[34m#metrics {\"StartTime\": 1635523580.2181697, \"EndTime\": 1635523580.218187, \"Dimensions\": {\"Algorithm\": \"Linear Learner\", \"Host\": \"algo-1\", \"Operation\": \"training\", \"epoch\": 0, \"model\": 3}, \"Metrics\": {\"train_absolute_loss_objective\": {\"sum\": 0.9166132926940918, \"count\": 1, \"min\": 0.9166132926940918, \"max\": 0.9166132926940918}}}\u001b[0m\n",
      "\u001b[34m#metrics {\"StartTime\": 1635523580.2182403, \"EndTime\": 1635523580.2182572, \"Dimensions\": {\"Algorithm\": \"Linear Learner\", \"Host\": \"algo-1\", \"Operation\": \"training\", \"epoch\": 0, \"model\": 4}, \"Metrics\": {\"train_absolute_loss_objective\": {\"sum\": 0.7385012388229371, \"count\": 1, \"min\": 0.7385012388229371, \"max\": 0.7385012388229371}}}\u001b[0m\n",
      "\u001b[34m#metrics {\"StartTime\": 1635523580.2183146, \"EndTime\": 1635523580.2183325, \"Dimensions\": {\"Algorithm\": \"Linear Learner\", \"Host\": \"algo-1\", \"Operation\": \"training\", \"epoch\": 0, \"model\": 5}, \"Metrics\": {\"train_absolute_loss_objective\": {\"sum\": 0.7477973413467407, \"count\": 1, \"min\": 0.7477973413467407, \"max\": 0.7477973413467407}}}\u001b[0m\n",
      "\u001b[34m#metrics {\"StartTime\": 1635523580.2183874, \"EndTime\": 1635523580.218404, \"Dimensions\": {\"Algorithm\": \"Linear Learner\", \"Host\": \"algo-1\", \"Operation\": \"training\", \"epoch\": 0, \"model\": 6}, \"Metrics\": {\"train_absolute_loss_objective\": {\"sum\": 0.8272441339492798, \"count\": 1, \"min\": 0.8272441339492798, \"max\": 0.8272441339492798}}}\u001b[0m\n",
      "\u001b[34m#metrics {\"StartTime\": 1635523580.218449, \"EndTime\": 1635523580.2184637, \"Dimensions\": {\"Algorithm\": \"Linear Learner\", \"Host\": \"algo-1\", \"Operation\": \"training\", \"epoch\": 0, \"model\": 7}, \"Metrics\": {\"train_absolute_loss_objective\": {\"sum\": 0.7995836210250854, \"count\": 1, \"min\": 0.7995836210250854, \"max\": 0.7995836210250854}}}\u001b[0m\n",
      "\u001b[34m#metrics {\"StartTime\": 1635523580.218514, \"EndTime\": 1635523580.2185297, \"Dimensions\": {\"Algorithm\": \"Linear Learner\", \"Host\": \"algo-1\", \"Operation\": \"training\", \"epoch\": 0, \"model\": 8}, \"Metrics\": {\"train_absolute_loss_objective\": {\"sum\": 0.9538590049743653, \"count\": 1, \"min\": 0.9538590049743653, \"max\": 0.9538590049743653}}}\u001b[0m\n",
      "\u001b[34m#metrics {\"StartTime\": 1635523580.2185779, \"EndTime\": 1635523580.2185938, \"Dimensions\": {\"Algorithm\": \"Linear Learner\", \"Host\": \"algo-1\", \"Operation\": \"training\", \"epoch\": 0, \"model\": 9}, \"Metrics\": {\"train_absolute_loss_objective\": {\"sum\": 0.8854930305480957, \"count\": 1, \"min\": 0.8854930305480957, \"max\": 0.8854930305480957}}}\u001b[0m\n",
      "\u001b[34m#metrics {\"StartTime\": 1635523580.2186363, \"EndTime\": 1635523580.2186522, \"Dimensions\": {\"Algorithm\": \"Linear Learner\", \"Host\": \"algo-1\", \"Operation\": \"training\", \"epoch\": 0, \"model\": 10}, \"Metrics\": {\"train_absolute_loss_objective\": {\"sum\": 0.8922349357604981, \"count\": 1, \"min\": 0.8922349357604981, \"max\": 0.8922349357604981}}}\u001b[0m\n",
      "\u001b[34m#metrics {\"StartTime\": 1635523580.2186944, \"EndTime\": 1635523580.2187097, \"Dimensions\": {\"Algorithm\": \"Linear Learner\", \"Host\": \"algo-1\", \"Operation\": \"training\", \"epoch\": 0, \"model\": 11}, \"Metrics\": {\"train_absolute_loss_objective\": {\"sum\": 0.8773266124725342, \"count\": 1, \"min\": 0.8773266124725342, \"max\": 0.8773266124725342}}}\u001b[0m\n",
      "\u001b[34m#metrics {\"StartTime\": 1635523580.218758, \"EndTime\": 1635523580.2187743, \"Dimensions\": {\"Algorithm\": \"Linear Learner\", \"Host\": \"algo-1\", \"Operation\": \"training\", \"epoch\": 0, \"model\": 12}, \"Metrics\": {\"train_absolute_loss_objective\": {\"sum\": 0.7469792604446411, \"count\": 1, \"min\": 0.7469792604446411, \"max\": 0.7469792604446411}}}\u001b[0m\n",
      "\u001b[34m#metrics {\"StartTime\": 1635523580.2188241, \"EndTime\": 1635523580.2188394, \"Dimensions\": {\"Algorithm\": \"Linear Learner\", \"Host\": \"algo-1\", \"Operation\": \"training\", \"epoch\": 0, \"model\": 13}, \"Metrics\": {\"train_absolute_loss_objective\": {\"sum\": 0.7720550680160523, \"count\": 1, \"min\": 0.7720550680160523, \"max\": 0.7720550680160523}}}\u001b[0m\n",
      "\u001b[34m#metrics {\"StartTime\": 1635523580.2188869, \"EndTime\": 1635523580.2189023, \"Dimensions\": {\"Algorithm\": \"Linear Learner\", \"Host\": \"algo-1\", \"Operation\": \"training\", \"epoch\": 0, \"model\": 14}, \"Metrics\": {\"train_absolute_loss_objective\": {\"sum\": 0.7455588245391845, \"count\": 1, \"min\": 0.7455588245391845, \"max\": 0.7455588245391845}}}\u001b[0m\n",
      "\u001b[34m#metrics {\"StartTime\": 1635523580.2189498, \"EndTime\": 1635523580.218966, \"Dimensions\": {\"Algorithm\": \"Linear Learner\", \"Host\": \"algo-1\", \"Operation\": \"training\", \"epoch\": 0, \"model\": 15}, \"Metrics\": {\"train_absolute_loss_objective\": {\"sum\": 0.7780649328231811, \"count\": 1, \"min\": 0.7780649328231811, \"max\": 0.7780649328231811}}}\u001b[0m\n",
      "\u001b[34m#metrics {\"StartTime\": 1635523580.2190228, \"EndTime\": 1635523580.21904, \"Dimensions\": {\"Algorithm\": \"Linear Learner\", \"Host\": \"algo-1\", \"Operation\": \"training\", \"epoch\": 0, \"model\": 16}, \"Metrics\": {\"train_absolute_loss_objective\": {\"sum\": 0.8612500286102295, \"count\": 1, \"min\": 0.8612500286102295, \"max\": 0.8612500286102295}}}\u001b[0m\n",
      "\u001b[34m#metrics {\"StartTime\": 1635523580.2190862, \"EndTime\": 1635523580.219101, \"Dimensions\": {\"Algorithm\": \"Linear Learner\", \"Host\": \"algo-1\", \"Operation\": \"training\", \"epoch\": 0, \"model\": 17}, \"Metrics\": {\"train_absolute_loss_objective\": {\"sum\": 0.91285080909729, \"count\": 1, \"min\": 0.91285080909729, \"max\": 0.91285080909729}}}\u001b[0m\n",
      "\u001b[34m#metrics {\"StartTime\": 1635523580.2191489, \"EndTime\": 1635523580.219164, \"Dimensions\": {\"Algorithm\": \"Linear Learner\", \"Host\": \"algo-1\", \"Operation\": \"training\", \"epoch\": 0, \"model\": 18}, \"Metrics\": {\"train_absolute_loss_objective\": {\"sum\": 0.8884983158111572, \"count\": 1, \"min\": 0.8884983158111572, \"max\": 0.8884983158111572}}}\u001b[0m\n",
      "\u001b[34m#metrics {\"StartTime\": 1635523580.219213, \"EndTime\": 1635523580.2192285, \"Dimensions\": {\"Algorithm\": \"Linear Learner\", \"Host\": \"algo-1\", \"Operation\": \"training\", \"epoch\": 0, \"model\": 19}, \"Metrics\": {\"train_absolute_loss_objective\": {\"sum\": 0.8857781314849853, \"count\": 1, \"min\": 0.8857781314849853, \"max\": 0.8857781314849853}}}\u001b[0m\n",
      "\u001b[34m#metrics {\"StartTime\": 1635523580.2192695, \"EndTime\": 1635523580.2192838, \"Dimensions\": {\"Algorithm\": \"Linear Learner\", \"Host\": \"algo-1\", \"Operation\": \"training\", \"epoch\": 0, \"model\": 20}, \"Metrics\": {\"train_absolute_loss_objective\": {\"sum\": 0.7928326606750489, \"count\": 1, \"min\": 0.7928326606750489, \"max\": 0.7928326606750489}}}\u001b[0m\n",
      "\u001b[34m#metrics {\"StartTime\": 1635523580.2193298, \"EndTime\": 1635523580.2193465, \"Dimensions\": {\"Algorithm\": \"Linear Learner\", \"Host\": \"algo-1\", \"Operation\": \"training\", \"epoch\": 0, \"model\": 21}, \"Metrics\": {\"train_absolute_loss_objective\": {\"sum\": 0.8070013427734375, \"count\": 1, \"min\": 0.8070013427734375, \"max\": 0.8070013427734375}}}\u001b[0m\n",
      "\u001b[34m#metrics {\"StartTime\": 1635523580.2193897, \"EndTime\": 1635523580.2194045, \"Dimensions\": {\"Algorithm\": \"Linear Learner\", \"Host\": \"algo-1\", \"Operation\": \"training\", \"epoch\": 0, \"model\": 22}, \"Metrics\": {\"train_absolute_loss_objective\": {\"sum\": 0.747108268737793, \"count\": 1, \"min\": 0.747108268737793, \"max\": 0.747108268737793}}}\u001b[0m\n",
      "\u001b[34m#metrics {\"StartTime\": 1635523580.2194457, \"EndTime\": 1635523580.2194602, \"Dimensions\": {\"Algorithm\": \"Linear Learner\", \"Host\": \"algo-1\", \"Operation\": \"training\", \"epoch\": 0, \"model\": 23}, \"Metrics\": {\"train_absolute_loss_objective\": {\"sum\": 0.831427297592163, \"count\": 1, \"min\": 0.831427297592163, \"max\": 0.831427297592163}}}\u001b[0m\n",
      "\u001b[34m#metrics {\"StartTime\": 1635523580.2195072, \"EndTime\": 1635523580.2195222, \"Dimensions\": {\"Algorithm\": \"Linear Learner\", \"Host\": \"algo-1\", \"Operation\": \"training\", \"epoch\": 0, \"model\": 24}, \"Metrics\": {\"train_absolute_loss_objective\": {\"sum\": 0.8637712097167969, \"count\": 1, \"min\": 0.8637712097167969, \"max\": 0.8637712097167969}}}\u001b[0m\n",
      "\u001b[34m#metrics {\"StartTime\": 1635523580.2195687, \"EndTime\": 1635523580.2195837, \"Dimensions\": {\"Algorithm\": \"Linear Learner\", \"Host\": \"algo-1\", \"Operation\": \"training\", \"epoch\": 0, \"model\": 25}, \"Metrics\": {\"train_absolute_loss_objective\": {\"sum\": 0.9311996746063232, \"count\": 1, \"min\": 0.9311996746063232, \"max\": 0.9311996746063232}}}\u001b[0m\n",
      "\u001b[34m#metrics {\"StartTime\": 1635523580.2196314, \"EndTime\": 1635523580.2196474, \"Dimensions\": {\"Algorithm\": \"Linear Learner\", \"Host\": \"algo-1\", \"Operation\": \"training\", \"epoch\": 0, \"model\": 26}, \"Metrics\": {\"train_absolute_loss_objective\": {\"sum\": 0.9177850818634034, \"count\": 1, \"min\": 0.9177850818634034, \"max\": 0.9177850818634034}}}\u001b[0m\n",
      "\u001b[34m#metrics {\"StartTime\": 1635523580.2196982, \"EndTime\": 1635523580.2197146, \"Dimensions\": {\"Algorithm\": \"Linear Learner\", \"Host\": \"algo-1\", \"Operation\": \"training\", \"epoch\": 0, \"model\": 27}, \"Metrics\": {\"train_absolute_loss_objective\": {\"sum\": 0.9068814086914062, \"count\": 1, \"min\": 0.9068814086914062, \"max\": 0.9068814086914062}}}\u001b[0m\n",
      "\u001b[34m#metrics {\"StartTime\": 1635523580.2197578, \"EndTime\": 1635523580.2197707, \"Dimensions\": {\"Algorithm\": \"Linear Learner\", \"Host\": \"algo-1\", \"Operation\": \"training\", \"epoch\": 0, \"model\": 28}, \"Metrics\": {\"train_absolute_loss_objective\": {\"sum\": 0.9324912071228028, \"count\": 1, \"min\": 0.9324912071228028, \"max\": 0.9324912071228028}}}\u001b[0m\n",
      "\u001b[34m#metrics {\"StartTime\": 1635523580.2198105, \"EndTime\": 1635523580.21982, \"Dimensions\": {\"Algorithm\": \"Linear Learner\", \"Host\": \"algo-1\", \"Operation\": \"training\", \"epoch\": 0, \"model\": 29}, \"Metrics\": {\"train_absolute_loss_objective\": {\"sum\": 0.9330864238739014, \"count\": 1, \"min\": 0.9330864238739014, \"max\": 0.9330864238739014}}}\u001b[0m\n",
      "\u001b[34m#metrics {\"StartTime\": 1635523580.219845, \"EndTime\": 1635523580.2198524, \"Dimensions\": {\"Algorithm\": \"Linear Learner\", \"Host\": \"algo-1\", \"Operation\": \"training\", \"epoch\": 0, \"model\": 30}, \"Metrics\": {\"train_absolute_loss_objective\": {\"sum\": 0.9278277015686035, \"count\": 1, \"min\": 0.9278277015686035, \"max\": 0.9278277015686035}}}\u001b[0m\n",
      "\u001b[34m#metrics {\"StartTime\": 1635523580.2198794, \"EndTime\": 1635523580.2198873, \"Dimensions\": {\"Algorithm\": \"Linear Learner\", \"Host\": \"algo-1\", \"Operation\": \"training\", \"epoch\": 0, \"model\": 31}, \"Metrics\": {\"train_absolute_loss_objective\": {\"sum\": 0.9324517917633056, \"count\": 1, \"min\": 0.9324517917633056, \"max\": 0.9324517917633056}}}\u001b[0m\n",
      "\u001b[34m[10/29/2021 16:06:20 INFO 140092017682240] #quality_metric: host=algo-1, epoch=0, train absolute_loss_objective <loss>=0.8976002979278564\u001b[0m\n",
      "\u001b[34m[10/29/2021 16:06:20 INFO 140092017682240] #early_stopping_criteria_metric: host=algo-1, epoch=0, criteria=absolute_loss_objective, value=0.7385012388229371\u001b[0m\n",
      "\u001b[34m[10/29/2021 16:06:20 INFO 140092017682240] Epoch 0: Loss improved. Updating best model\u001b[0m\n",
      "\u001b[34m[10/29/2021 16:06:20 INFO 140092017682240] Saving model for epoch: 0\u001b[0m\n",
      "\u001b[34m[10/29/2021 16:06:20 INFO 140092017682240] Saved checkpoint to \"/tmp/tmpccvr9qpb/mx-mod-0000.params\"\u001b[0m\n",
      "\u001b[34m[10/29/2021 16:06:20 INFO 140092017682240] #progress_metric: host=algo-1, completed 20.0 % of epochs\u001b[0m\n",
      "\u001b[34m#metrics {\"StartTime\": 1635523580.1049097, \"EndTime\": 1635523580.2354915, \"Dimensions\": {\"Algorithm\": \"Linear Learner\", \"Host\": \"algo-1\", \"Operation\": \"training\", \"epoch\": 0, \"Meta\": \"training_data_iter\"}, \"Metrics\": {\"Total Records Seen\": {\"sum\": 61.0, \"count\": 1, \"min\": 61, \"max\": 61}, \"Total Batches Seen\": {\"sum\": 13.0, \"count\": 1, \"min\": 13, \"max\": 13}, \"Max Records Seen Between Resets\": {\"sum\": 28.0, \"count\": 1, \"min\": 28, \"max\": 28}, \"Max Batches Seen Between Resets\": {\"sum\": 6.0, \"count\": 1, \"min\": 6, \"max\": 6}, \"Reset Count\": {\"sum\": 3.0, \"count\": 1, \"min\": 3, \"max\": 3}, \"Number of Records Since Last Reset\": {\"sum\": 28.0, \"count\": 1, \"min\": 28, \"max\": 28}, \"Number of Batches Since Last Reset\": {\"sum\": 6.0, \"count\": 1, \"min\": 6, \"max\": 6}}}\u001b[0m\n",
      "\u001b[34m[10/29/2021 16:06:20 INFO 140092017682240] #throughput_metric: host=algo-1, train throughput=214.23088092580025 records/second\u001b[0m\n",
      "\u001b[34m[2021-10-29 16:06:20.335] [tensorio] [info] epoch_stats={\"data_pipeline\": \"/opt/ml/input/data/train\", \"epoch\": 6, \"duration\": 99, \"num_examples\": 6, \"num_bytes\": 1344}\u001b[0m\n",
      "\u001b[34m#metrics {\"StartTime\": 1635523580.3352175, \"EndTime\": 1635523580.3352892, \"Dimensions\": {\"Algorithm\": \"Linear Learner\", \"Host\": \"algo-1\", \"Operation\": \"training\", \"epoch\": 1, \"model\": 0}, \"Metrics\": {\"train_absolute_loss_objective\": {\"sum\": 0.8622507762908935, \"count\": 1, \"min\": 0.8622507762908935, \"max\": 0.8622507762908935}}}\u001b[0m\n",
      "\u001b[34m#metrics {\"StartTime\": 1635523580.3353565, \"EndTime\": 1635523580.3353758, \"Dimensions\": {\"Algorithm\": \"Linear Learner\", \"Host\": \"algo-1\", \"Operation\": \"training\", \"epoch\": 1, \"model\": 1}, \"Metrics\": {\"train_absolute_loss_objective\": {\"sum\": 0.8822876930236816, \"count\": 1, \"min\": 0.8822876930236816, \"max\": 0.8822876930236816}}}\u001b[0m\n",
      "\u001b[34m#metrics {\"StartTime\": 1635523580.3354416, \"EndTime\": 1635523580.3354604, \"Dimensions\": {\"Algorithm\": \"Linear Learner\", \"Host\": \"algo-1\", \"Operation\": \"training\", \"epoch\": 1, \"model\": 2}, \"Metrics\": {\"train_absolute_loss_objective\": {\"sum\": 0.864677963256836, \"count\": 1, \"min\": 0.864677963256836, \"max\": 0.864677963256836}}}\u001b[0m\n",
      "\u001b[34m#metrics {\"StartTime\": 1635523580.3355234, \"EndTime\": 1635523580.3355415, \"Dimensions\": {\"Algorithm\": \"Linear Learner\", \"Host\": \"algo-1\", \"Operation\": \"training\", \"epoch\": 1, \"model\": 3}, \"Metrics\": {\"train_absolute_loss_objective\": {\"sum\": 0.8812637329101562, \"count\": 1, \"min\": 0.8812637329101562, \"max\": 0.8812637329101562}}}\u001b[0m\n",
      "\u001b[34m#metrics {\"StartTime\": 1635523580.3355956, \"EndTime\": 1635523580.3356113, \"Dimensions\": {\"Algorithm\": \"Linear Learner\", \"Host\": \"algo-1\", \"Operation\": \"training\", \"epoch\": 1, \"model\": 4}, \"Metrics\": {\"train_absolute_loss_objective\": {\"sum\": 0.4645533990859985, \"count\": 1, \"min\": 0.4645533990859985, \"max\": 0.4645533990859985}}}\u001b[0m\n",
      "\u001b[34m#metrics {\"StartTime\": 1635523580.335663, \"EndTime\": 1635523580.335679, \"Dimensions\": {\"Algorithm\": \"Linear Learner\", \"Host\": \"algo-1\", \"Operation\": \"training\", \"epoch\": 1, \"model\": 5}, \"Metrics\": {\"train_absolute_loss_objective\": {\"sum\": 0.470290379524231, \"count\": 1, \"min\": 0.470290379524231, \"max\": 0.470290379524231}}}\u001b[0m\n",
      "\u001b[34m#metrics {\"StartTime\": 1635523580.3357384, \"EndTime\": 1635523580.3357553, \"Dimensions\": {\"Algorithm\": \"Linear Learner\", \"Host\": \"algo-1\", \"Operation\": \"training\", \"epoch\": 1, \"model\": 6}, \"Metrics\": {\"train_absolute_loss_objective\": {\"sum\": 0.5526057767868042, \"count\": 1, \"min\": 0.5526057767868042, \"max\": 0.5526057767868042}}}\u001b[0m\n",
      "\u001b[34m#metrics {\"StartTime\": 1635523580.335808, \"EndTime\": 1635523580.3358247, \"Dimensions\": {\"Algorithm\": \"Linear Learner\", \"Host\": \"algo-1\", \"Operation\": \"training\", \"epoch\": 1, \"model\": 7}, \"Metrics\": {\"train_absolute_loss_objective\": {\"sum\": 0.5022499132156372, \"count\": 1, \"min\": 0.5022499132156372, \"max\": 0.5022499132156372}}}\u001b[0m\n",
      "\u001b[34m#metrics {\"StartTime\": 1635523580.3358836, \"EndTime\": 1635523580.3358984, \"Dimensions\": {\"Algorithm\": \"Linear Learner\", \"Host\": \"algo-1\", \"Operation\": \"training\", \"epoch\": 1, \"model\": 8}, \"Metrics\": {\"train_absolute_loss_objective\": {\"sum\": 0.9185089683532714, \"count\": 1, \"min\": 0.9185089683532714, \"max\": 0.9185089683532714}}}\u001b[0m\n",
      "\u001b[34m#metrics {\"StartTime\": 1635523580.335945, \"EndTime\": 1635523580.3359613, \"Dimensions\": {\"Algorithm\": \"Linear Learner\", \"Host\": \"algo-1\", \"Operation\": \"training\", \"epoch\": 1, \"model\": 9}, \"Metrics\": {\"train_absolute_loss_objective\": {\"sum\": 0.8501442337036133, \"count\": 1, \"min\": 0.8501442337036133, \"max\": 0.8501442337036133}}}\u001b[0m\n",
      "\u001b[34m#metrics {\"StartTime\": 1635523580.3360128, \"EndTime\": 1635523580.3360295, \"Dimensions\": {\"Algorithm\": \"Linear Learner\", \"Host\": \"algo-1\", \"Operation\": \"training\", \"epoch\": 1, \"model\": 10}, \"Metrics\": {\"train_absolute_loss_objective\": {\"sum\": 0.8568860530853272, \"count\": 1, \"min\": 0.8568860530853272, \"max\": 0.8568860530853272}}}\u001b[0m\n",
      "\u001b[34m#metrics {\"StartTime\": 1635523580.3360794, \"EndTime\": 1635523580.3360953, \"Dimensions\": {\"Algorithm\": \"Linear Learner\", \"Host\": \"algo-1\", \"Operation\": \"training\", \"epoch\": 1, \"model\": 11}, \"Metrics\": {\"train_absolute_loss_objective\": {\"sum\": 0.8419779777526856, \"count\": 1, \"min\": 0.8419779777526856, \"max\": 0.8419779777526856}}}\u001b[0m\n",
      "\u001b[34m#metrics {\"StartTime\": 1635523580.3361518, \"EndTime\": 1635523580.3361688, \"Dimensions\": {\"Algorithm\": \"Linear Learner\", \"Host\": \"algo-1\", \"Operation\": \"training\", \"epoch\": 1, \"model\": 12}, \"Metrics\": {\"train_absolute_loss_objective\": {\"sum\": 0.46993499279022216, \"count\": 1, \"min\": 0.46993499279022216, \"max\": 0.46993499279022216}}}\u001b[0m\n",
      "\u001b[34m#metrics {\"StartTime\": 1635523580.3362205, \"EndTime\": 1635523580.3362355, \"Dimensions\": {\"Algorithm\": \"Linear Learner\", \"Host\": \"algo-1\", \"Operation\": \"training\", \"epoch\": 1, \"model\": 13}, \"Metrics\": {\"train_absolute_loss_objective\": {\"sum\": 0.48539979934692384, \"count\": 1, \"min\": 0.48539979934692384, \"max\": 0.48539979934692384}}}\u001b[0m\n",
      "\u001b[34m#metrics {\"StartTime\": 1635523580.336294, \"EndTime\": 1635523580.336312, \"Dimensions\": {\"Algorithm\": \"Linear Learner\", \"Host\": \"algo-1\", \"Operation\": \"training\", \"epoch\": 1, \"model\": 14}, \"Metrics\": {\"train_absolute_loss_objective\": {\"sum\": 0.4690589904785156, \"count\": 1, \"min\": 0.4690589904785156, \"max\": 0.4690589904785156}}}\u001b[0m\n",
      "\u001b[34m#metrics {\"StartTime\": 1635523580.3363686, \"EndTime\": 1635523580.3363855, \"Dimensions\": {\"Algorithm\": \"Linear Learner\", \"Host\": \"algo-1\", \"Operation\": \"training\", \"epoch\": 1, \"model\": 15}, \"Metrics\": {\"train_absolute_loss_objective\": {\"sum\": 0.489106240272522, \"count\": 1, \"min\": 0.489106240272522, \"max\": 0.489106240272522}}}\u001b[0m\n",
      "\u001b[34m#metrics {\"StartTime\": 1635523580.336437, \"EndTime\": 1635523580.3364537, \"Dimensions\": {\"Algorithm\": \"Linear Learner\", \"Host\": \"algo-1\", \"Operation\": \"training\", \"epoch\": 1, \"model\": 16}, \"Metrics\": {\"train_absolute_loss_objective\": {\"sum\": 0.8260340309143066, \"count\": 1, \"min\": 0.8260340309143066, \"max\": 0.8260340309143066}}}\u001b[0m\n",
      "\u001b[34m#metrics {\"StartTime\": 1635523580.3365042, \"EndTime\": 1635523580.3365207, \"Dimensions\": {\"Algorithm\": \"Linear Learner\", \"Host\": \"algo-1\", \"Operation\": \"training\", \"epoch\": 1, \"model\": 17}, \"Metrics\": {\"train_absolute_loss_objective\": {\"sum\": 0.8775306034088135, \"count\": 1, \"min\": 0.8775306034088135, \"max\": 0.8775306034088135}}}\u001b[0m\n",
      "\u001b[34m#metrics {\"StartTime\": 1635523580.3365712, \"EndTime\": 1635523580.3365817, \"Dimensions\": {\"Algorithm\": \"Linear Learner\", \"Host\": \"algo-1\", \"Operation\": \"training\", \"epoch\": 1, \"model\": 18}, \"Metrics\": {\"train_absolute_loss_objective\": {\"sum\": 0.8532248497009277, \"count\": 1, \"min\": 0.8532248497009277, \"max\": 0.8532248497009277}}}\u001b[0m\n",
      "\u001b[34m#metrics {\"StartTime\": 1635523580.336622, \"EndTime\": 1635523580.3366377, \"Dimensions\": {\"Algorithm\": \"Linear Learner\", \"Host\": \"algo-1\", \"Operation\": \"training\", \"epoch\": 1, \"model\": 19}, \"Metrics\": {\"train_absolute_loss_objective\": {\"sum\": 0.8505101203918457, \"count\": 1, \"min\": 0.8505101203918457, \"max\": 0.8505101203918457}}}\u001b[0m\n",
      "\u001b[34m#metrics {\"StartTime\": 1635523580.3366878, \"EndTime\": 1635523580.3367038, \"Dimensions\": {\"Algorithm\": \"Linear Learner\", \"Host\": \"algo-1\", \"Operation\": \"training\", \"epoch\": 1, \"model\": 20}, \"Metrics\": {\"train_absolute_loss_objective\": {\"sum\": 0.5884969758987427, \"count\": 1, \"min\": 0.5884969758987427, \"max\": 0.5884969758987427}}}\u001b[0m\n",
      "\u001b[34m#metrics {\"StartTime\": 1635523580.3367515, \"EndTime\": 1635523580.336768, \"Dimensions\": {\"Algorithm\": \"Linear Learner\", \"Host\": \"algo-1\", \"Operation\": \"training\", \"epoch\": 1, \"model\": 21}, \"Metrics\": {\"train_absolute_loss_objective\": {\"sum\": 0.5980690097808838, \"count\": 1, \"min\": 0.5980690097808838, \"max\": 0.5980690097808838}}}\u001b[0m\n",
      "\u001b[34m#metrics {\"StartTime\": 1635523580.3368168, \"EndTime\": 1635523580.336827, \"Dimensions\": {\"Algorithm\": \"Linear Learner\", \"Host\": \"algo-1\", \"Operation\": \"training\", \"epoch\": 1, \"model\": 22}, \"Metrics\": {\"train_absolute_loss_objective\": {\"sum\": 0.532030439376831, \"count\": 1, \"min\": 0.532030439376831, \"max\": 0.532030439376831}}}\u001b[0m\n",
      "\u001b[34m#metrics {\"StartTime\": 1635523580.336867, \"EndTime\": 1635523580.3368828, \"Dimensions\": {\"Algorithm\": \"Linear Learner\", \"Host\": \"algo-1\", \"Operation\": \"training\", \"epoch\": 1, \"model\": 23}, \"Metrics\": {\"train_absolute_loss_objective\": {\"sum\": 0.5672141647338867, \"count\": 1, \"min\": 0.5672141647338867, \"max\": 0.5672141647338867}}}\u001b[0m\n",
      "\u001b[34m#metrics {\"StartTime\": 1635523580.336941, \"EndTime\": 1635523580.3369567, \"Dimensions\": {\"Algorithm\": \"Linear Learner\", \"Host\": \"algo-1\", \"Operation\": \"training\", \"epoch\": 1, \"model\": 24}, \"Metrics\": {\"train_absolute_loss_objective\": {\"sum\": 0.8702938556671143, \"count\": 1, \"min\": 0.8702938556671143, \"max\": 0.8702938556671143}}}\u001b[0m\n",
      "\u001b[34m#metrics {\"StartTime\": 1635523580.3369994, \"EndTime\": 1635523580.3370132, \"Dimensions\": {\"Algorithm\": \"Linear Learner\", \"Host\": \"algo-1\", \"Operation\": \"training\", \"epoch\": 1, \"model\": 25}, \"Metrics\": {\"train_absolute_loss_objective\": {\"sum\": 0.8967791366577148, \"count\": 1, \"min\": 0.8967791366577148, \"max\": 0.8967791366577148}}}\u001b[0m\n",
      "\u001b[34m#metrics {\"StartTime\": 1635523580.3370593, \"EndTime\": 1635523580.3370748, \"Dimensions\": {\"Algorithm\": \"Linear Learner\", \"Host\": \"algo-1\", \"Operation\": \"training\", \"epoch\": 1, \"model\": 26}, \"Metrics\": {\"train_absolute_loss_objective\": {\"sum\": 0.8861009502410888, \"count\": 1, \"min\": 0.8861009502410888, \"max\": 0.8861009502410888}}}\u001b[0m\n",
      "\u001b[34m#metrics {\"StartTime\": 1635523580.337111, \"EndTime\": 1635523580.3371243, \"Dimensions\": {\"Algorithm\": \"Linear Learner\", \"Host\": \"algo-1\", \"Operation\": \"training\", \"epoch\": 1, \"model\": 27}, \"Metrics\": {\"train_absolute_loss_objective\": {\"sum\": 0.885558032989502, \"count\": 1, \"min\": 0.885558032989502, \"max\": 0.885558032989502}}}\u001b[0m\n",
      "\u001b[34m#metrics {\"StartTime\": 1635523580.3371706, \"EndTime\": 1635523580.3371868, \"Dimensions\": {\"Algorithm\": \"Linear Learner\", \"Host\": \"algo-1\", \"Operation\": \"training\", \"epoch\": 1, \"model\": 28}, \"Metrics\": {\"train_absolute_loss_objective\": {\"sum\": 0.8969727420806884, \"count\": 1, \"min\": 0.8969727420806884, \"max\": 0.8969727420806884}}}\u001b[0m\n",
      "\u001b[34m#metrics {\"StartTime\": 1635523580.3372457, \"EndTime\": 1635523580.3372633, \"Dimensions\": {\"Algorithm\": \"Linear Learner\", \"Host\": \"algo-1\", \"Operation\": \"training\", \"epoch\": 1, \"model\": 29}, \"Metrics\": {\"train_absolute_loss_objective\": {\"sum\": 0.8960893344879151, \"count\": 1, \"min\": 0.8960893344879151, \"max\": 0.8960893344879151}}}\u001b[0m\n",
      "\u001b[34m#metrics {\"StartTime\": 1635523580.3373158, \"EndTime\": 1635523580.3373332, \"Dimensions\": {\"Algorithm\": \"Linear Learner\", \"Host\": \"algo-1\", \"Operation\": \"training\", \"epoch\": 1, \"model\": 30}, \"Metrics\": {\"train_absolute_loss_objective\": {\"sum\": 1.0182948875427247, \"count\": 1, \"min\": 1.0182948875427247, \"max\": 1.0182948875427247}}}\u001b[0m\n",
      "\u001b[34m#metrics {\"StartTime\": 1635523580.337382, \"EndTime\": 1635523580.337396, \"Dimensions\": {\"Algorithm\": \"Linear Learner\", \"Host\": \"algo-1\", \"Operation\": \"training\", \"epoch\": 1, \"model\": 31}, \"Metrics\": {\"train_absolute_loss_objective\": {\"sum\": 0.8892877578735352, \"count\": 1, \"min\": 0.8892877578735352, \"max\": 0.8892877578735352}}}\u001b[0m\n",
      "\u001b[34m[10/29/2021 16:06:20 INFO 140092017682240] #quality_metric: host=algo-1, epoch=1, train absolute_loss_objective <loss>=0.8622507762908935\u001b[0m\n",
      "\u001b[34m[10/29/2021 16:06:20 INFO 140092017682240] #early_stopping_criteria_metric: host=algo-1, epoch=1, criteria=absolute_loss_objective, value=0.4645533990859985\u001b[0m\n",
      "\u001b[34m[10/29/2021 16:06:20 INFO 140092017682240] Epoch 1: Loss improved. Updating best model\u001b[0m\n",
      "\u001b[34m[10/29/2021 16:06:20 INFO 140092017682240] Saving model for epoch: 1\u001b[0m\n",
      "\u001b[34m[10/29/2021 16:06:20 INFO 140092017682240] Saved checkpoint to \"/tmp/tmpmsabgy1a/mx-mod-0000.params\"\u001b[0m\n",
      "\u001b[34m[10/29/2021 16:06:20 INFO 140092017682240] #progress_metric: host=algo-1, completed 40.0 % of epochs\u001b[0m\n",
      "\u001b[34m#metrics {\"StartTime\": 1635523580.2357728, \"EndTime\": 1635523580.3454478, \"Dimensions\": {\"Algorithm\": \"Linear Learner\", \"Host\": \"algo-1\", \"Operation\": \"training\", \"epoch\": 1, \"Meta\": \"training_data_iter\"}, \"Metrics\": {\"Total Records Seen\": {\"sum\": 89.0, \"count\": 1, \"min\": 89, \"max\": 89}, \"Total Batches Seen\": {\"sum\": 19.0, \"count\": 1, \"min\": 19, \"max\": 19}, \"Max Records Seen Between Resets\": {\"sum\": 28.0, \"count\": 1, \"min\": 28, \"max\": 28}, \"Max Batches Seen Between Resets\": {\"sum\": 6.0, \"count\": 1, \"min\": 6, \"max\": 6}, \"Reset Count\": {\"sum\": 4.0, \"count\": 1, \"min\": 4, \"max\": 4}, \"Number of Records Since Last Reset\": {\"sum\": 28.0, \"count\": 1, \"min\": 28, \"max\": 28}, \"Number of Batches Since Last Reset\": {\"sum\": 6.0, \"count\": 1, \"min\": 6, \"max\": 6}}}\u001b[0m\n",
      "\u001b[34m[10/29/2021 16:06:20 INFO 140092017682240] #throughput_metric: host=algo-1, train throughput=255.01884186685834 records/second\u001b[0m\n",
      "\u001b[34m[2021-10-29 16:06:20.455] [tensorio] [info] epoch_stats={\"data_pipeline\": \"/opt/ml/input/data/train\", \"epoch\": 8, \"duration\": 109, \"num_examples\": 6, \"num_bytes\": 1344}\u001b[0m\n",
      "\u001b[34m#metrics {\"StartTime\": 1635523580.4556863, \"EndTime\": 1635523580.455747, \"Dimensions\": {\"Algorithm\": \"Linear Learner\", \"Host\": \"algo-1\", \"Operation\": \"training\", \"epoch\": 2, \"model\": 0}, \"Metrics\": {\"train_absolute_loss_objective\": {\"sum\": 0.8296040725708008, \"count\": 1, \"min\": 0.8296040725708008, \"max\": 0.8296040725708008}}}\u001b[0m\n",
      "\u001b[34m#metrics {\"StartTime\": 1635523580.4558055, \"EndTime\": 1635523580.4558182, \"Dimensions\": {\"Algorithm\": \"Linear Learner\", \"Host\": \"algo-1\", \"Operation\": \"training\", \"epoch\": 2, \"model\": 1}, \"Metrics\": {\"train_absolute_loss_objective\": {\"sum\": 0.8495382404327393, \"count\": 1, \"min\": 0.8495382404327393, \"max\": 0.8495382404327393}}}\u001b[0m\n",
      "\u001b[34m#metrics {\"StartTime\": 1635523580.4558566, \"EndTime\": 1635523580.4558668, \"Dimensions\": {\"Algorithm\": \"Linear Learner\", \"Host\": \"algo-1\", \"Operation\": \"training\", \"epoch\": 2, \"model\": 2}, \"Metrics\": {\"train_absolute_loss_objective\": {\"sum\": 0.8320312690734863, \"count\": 1, \"min\": 0.8320312690734863, \"max\": 0.8320312690734863}}}\u001b[0m\n",
      "\u001b[34m#metrics {\"StartTime\": 1635523580.4559007, \"EndTime\": 1635523580.4559102, \"Dimensions\": {\"Algorithm\": \"Linear Learner\", \"Host\": \"algo-1\", \"Operation\": \"training\", \"epoch\": 2, \"model\": 3}, \"Metrics\": {\"train_absolute_loss_objective\": {\"sum\": 0.8485143089294434, \"count\": 1, \"min\": 0.8485143089294434, \"max\": 0.8485143089294434}}}\u001b[0m\n",
      "\u001b[34m#metrics {\"StartTime\": 1635523580.4559429, \"EndTime\": 1635523580.455952, \"Dimensions\": {\"Algorithm\": \"Linear Learner\", \"Host\": \"algo-1\", \"Operation\": \"training\", \"epoch\": 2, \"model\": 4}, \"Metrics\": {\"train_absolute_loss_objective\": {\"sum\": 0.2683792543411255, \"count\": 1, \"min\": 0.2683792543411255, \"max\": 0.2683792543411255}}}\u001b[0m\n",
      "\u001b[34m#metrics {\"StartTime\": 1635523580.4559844, \"EndTime\": 1635523580.4559937, \"Dimensions\": {\"Algorithm\": \"Linear Learner\", \"Host\": \"algo-1\", \"Operation\": \"training\", \"epoch\": 2, \"model\": 5}, \"Metrics\": {\"train_absolute_loss_objective\": {\"sum\": 0.2652902030944824, \"count\": 1, \"min\": 0.2652902030944824, \"max\": 0.2652902030944824}}}\u001b[0m\n",
      "\u001b[34m#metrics {\"StartTime\": 1635523580.4560254, \"EndTime\": 1635523580.4560344, \"Dimensions\": {\"Algorithm\": \"Linear Learner\", \"Host\": \"algo-1\", \"Operation\": \"training\", \"epoch\": 2, \"model\": 6}, \"Metrics\": {\"train_absolute_loss_objective\": {\"sum\": 0.34246702909469606, \"count\": 1, \"min\": 0.34246702909469606, \"max\": 0.34246702909469606}}}\u001b[0m\n",
      "\u001b[34m#metrics {\"StartTime\": 1635523580.4560661, \"EndTime\": 1635523580.456075, \"Dimensions\": {\"Algorithm\": \"Linear Learner\", \"Host\": \"algo-1\", \"Operation\": \"training\", \"epoch\": 2, \"model\": 7}, \"Metrics\": {\"train_absolute_loss_objective\": {\"sum\": 0.37039841175079347, \"count\": 1, \"min\": 0.37039841175079347, \"max\": 0.37039841175079347}}}\u001b[0m\n",
      "\u001b[34m#metrics {\"StartTime\": 1635523580.4561074, \"EndTime\": 1635523580.456116, \"Dimensions\": {\"Algorithm\": \"Linear Learner\", \"Host\": \"algo-1\", \"Operation\": \"training\", \"epoch\": 2, \"model\": 8}, \"Metrics\": {\"train_absolute_loss_objective\": {\"sum\": 0.8858626365661622, \"count\": 1, \"min\": 0.8858626365661622, \"max\": 0.8858626365661622}}}\u001b[0m\n",
      "\u001b[34m#metrics {\"StartTime\": 1635523580.4561477, \"EndTime\": 1635523580.4561567, \"Dimensions\": {\"Algorithm\": \"Linear Learner\", \"Host\": \"algo-1\", \"Operation\": \"training\", \"epoch\": 2, \"model\": 9}, \"Metrics\": {\"train_absolute_loss_objective\": {\"sum\": 0.8173965740203858, \"count\": 1, \"min\": 0.8173965740203858, \"max\": 0.8173965740203858}}}\u001b[0m\n",
      "\u001b[34m#metrics {\"StartTime\": 1635523580.4561882, \"EndTime\": 1635523580.4561968, \"Dimensions\": {\"Algorithm\": \"Linear Learner\", \"Host\": \"algo-1\", \"Operation\": \"training\", \"epoch\": 2, \"model\": 10}, \"Metrics\": {\"train_absolute_loss_objective\": {\"sum\": 0.8242409706115723, \"count\": 1, \"min\": 0.8242409706115723, \"max\": 0.8242409706115723}}}\u001b[0m\n",
      "\u001b[34m#metrics {\"StartTime\": 1635523580.4562285, \"EndTime\": 1635523580.4562373, \"Dimensions\": {\"Algorithm\": \"Linear Learner\", \"Host\": \"algo-1\", \"Operation\": \"training\", \"epoch\": 2, \"model\": 11}, \"Metrics\": {\"train_absolute_loss_objective\": {\"sum\": 0.809230489730835, \"count\": 1, \"min\": 0.809230489730835, \"max\": 0.809230489730835}}}\u001b[0m\n",
      "\u001b[34m#metrics {\"StartTime\": 1635523580.4562688, \"EndTime\": 1635523580.4562778, \"Dimensions\": {\"Algorithm\": \"Linear Learner\", \"Host\": \"algo-1\", \"Operation\": \"training\", \"epoch\": 2, \"model\": 12}, \"Metrics\": {\"train_absolute_loss_objective\": {\"sum\": 0.2626328372955322, \"count\": 1, \"min\": 0.2626328372955322, \"max\": 0.2626328372955322}}}\u001b[0m\n",
      "\u001b[34m#metrics {\"StartTime\": 1635523580.456309, \"EndTime\": 1635523580.456318, \"Dimensions\": {\"Algorithm\": \"Linear Learner\", \"Host\": \"algo-1\", \"Operation\": \"training\", \"epoch\": 2, \"model\": 13}, \"Metrics\": {\"train_absolute_loss_objective\": {\"sum\": 0.3726391506195068, \"count\": 1, \"min\": 0.3726391506195068, \"max\": 0.3726391506195068}}}\u001b[0m\n",
      "\u001b[34m#metrics {\"StartTime\": 1635523580.4563513, \"EndTime\": 1635523580.4563603, \"Dimensions\": {\"Algorithm\": \"Linear Learner\", \"Host\": \"algo-1\", \"Operation\": \"training\", \"epoch\": 2, \"model\": 14}, \"Metrics\": {\"train_absolute_loss_objective\": {\"sum\": 0.26342650413513186, \"count\": 1, \"min\": 0.26342650413513186, \"max\": 0.26342650413513186}}}\u001b[0m\n",
      "\u001b[34m#metrics {\"StartTime\": 1635523580.4563932, \"EndTime\": 1635523580.456402, \"Dimensions\": {\"Algorithm\": \"Linear Learner\", \"Host\": \"algo-1\", \"Operation\": \"training\", \"epoch\": 2, \"model\": 15}, \"Metrics\": {\"train_absolute_loss_objective\": {\"sum\": 0.37211729764938356, \"count\": 1, \"min\": 0.37211729764938356, \"max\": 0.37211729764938356}}}\u001b[0m\n",
      "\u001b[34m#metrics {\"StartTime\": 1635523580.4564338, \"EndTime\": 1635523580.4564424, \"Dimensions\": {\"Algorithm\": \"Linear Learner\", \"Host\": \"algo-1\", \"Operation\": \"training\", \"epoch\": 2, \"model\": 16}, \"Metrics\": {\"train_absolute_loss_objective\": {\"sum\": 0.7936403179168701, \"count\": 1, \"min\": 0.7936403179168701, \"max\": 0.7936403179168701}}}\u001b[0m\n",
      "\u001b[34m#metrics {\"StartTime\": 1635523580.4564738, \"EndTime\": 1635523580.456483, \"Dimensions\": {\"Algorithm\": \"Linear Learner\", \"Host\": \"algo-1\", \"Operation\": \"training\", \"epoch\": 2, \"model\": 17}, \"Metrics\": {\"train_absolute_loss_objective\": {\"sum\": 0.8449080944061279, \"count\": 1, \"min\": 0.8449080944061279, \"max\": 0.8449080944061279}}}\u001b[0m\n",
      "\u001b[34m#metrics {\"StartTime\": 1635523580.4565141, \"EndTime\": 1635523580.456523, \"Dimensions\": {\"Algorithm\": \"Linear Learner\", \"Host\": \"algo-1\", \"Operation\": \"training\", \"epoch\": 2, \"model\": 18}, \"Metrics\": {\"train_absolute_loss_objective\": {\"sum\": 0.8207611751556396, \"count\": 1, \"min\": 0.8207611751556396, \"max\": 0.8207611751556396}}}\u001b[0m\n",
      "\u001b[34m#metrics {\"StartTime\": 1635523580.4565547, \"EndTime\": 1635523580.4565635, \"Dimensions\": {\"Algorithm\": \"Linear Learner\", \"Host\": \"algo-1\", \"Operation\": \"training\", \"epoch\": 2, \"model\": 19}, \"Metrics\": {\"train_absolute_loss_objective\": {\"sum\": 0.8179514217376709, \"count\": 1, \"min\": 0.8179514217376709, \"max\": 0.8179514217376709}}}\u001b[0m\n",
      "\u001b[34m#metrics {\"StartTime\": 1635523580.456595, \"EndTime\": 1635523580.4566038, \"Dimensions\": {\"Algorithm\": \"Linear Learner\", \"Host\": \"algo-1\", \"Operation\": \"training\", \"epoch\": 2, \"model\": 20}, \"Metrics\": {\"train_absolute_loss_objective\": {\"sum\": 0.4946908712387085, \"count\": 1, \"min\": 0.4946908712387085, \"max\": 0.4946908712387085}}}\u001b[0m\n",
      "\u001b[34m#metrics {\"StartTime\": 1635523580.4566352, \"EndTime\": 1635523580.456644, \"Dimensions\": {\"Algorithm\": \"Linear Learner\", \"Host\": \"algo-1\", \"Operation\": \"training\", \"epoch\": 2, \"model\": 21}, \"Metrics\": {\"train_absolute_loss_objective\": {\"sum\": 0.49690563678741456, \"count\": 1, \"min\": 0.49690563678741456, \"max\": 0.49690563678741456}}}\u001b[0m\n",
      "\u001b[34m#metrics {\"StartTime\": 1635523580.4566755, \"EndTime\": 1635523580.4566844, \"Dimensions\": {\"Algorithm\": \"Linear Learner\", \"Host\": \"algo-1\", \"Operation\": \"training\", \"epoch\": 2, \"model\": 22}, \"Metrics\": {\"train_absolute_loss_objective\": {\"sum\": 0.38765501499176025, \"count\": 1, \"min\": 0.38765501499176025, \"max\": 0.38765501499176025}}}\u001b[0m\n",
      "\u001b[34m#metrics {\"StartTime\": 1635523580.456716, \"EndTime\": 1635523580.4567246, \"Dimensions\": {\"Algorithm\": \"Linear Learner\", \"Host\": \"algo-1\", \"Operation\": \"training\", \"epoch\": 2, \"model\": 23}, \"Metrics\": {\"train_absolute_loss_objective\": {\"sum\": 0.3780917739868164, \"count\": 1, \"min\": 0.3780917739868164, \"max\": 0.3780917739868164}}}\u001b[0m\n",
      "\u001b[34m#metrics {\"StartTime\": 1635523580.4567578, \"EndTime\": 1635523580.456767, \"Dimensions\": {\"Algorithm\": \"Linear Learner\", \"Host\": \"algo-1\", \"Operation\": \"training\", \"epoch\": 2, \"model\": 24}, \"Metrics\": {\"train_absolute_loss_objective\": {\"sum\": 0.8760049724578858, \"count\": 1, \"min\": 0.8760049724578858, \"max\": 0.8760049724578858}}}\u001b[0m\n",
      "\u001b[34m#metrics {\"StartTime\": 1635523580.456799, \"EndTime\": 1635523580.4568079, \"Dimensions\": {\"Algorithm\": \"Linear Learner\", \"Host\": \"algo-1\", \"Operation\": \"training\", \"epoch\": 2, \"model\": 25}, \"Metrics\": {\"train_absolute_loss_objective\": {\"sum\": 0.8710721588134765, \"count\": 1, \"min\": 0.8710721588134765, \"max\": 0.8710721588134765}}}\u001b[0m\n",
      "\u001b[34m#metrics {\"StartTime\": 1635523580.4568393, \"EndTime\": 1635523580.4568481, \"Dimensions\": {\"Algorithm\": \"Linear Learner\", \"Host\": \"algo-1\", \"Operation\": \"training\", \"epoch\": 2, \"model\": 26}, \"Metrics\": {\"train_absolute_loss_objective\": {\"sum\": 0.8700669574737548, \"count\": 1, \"min\": 0.8700669574737548, \"max\": 0.8700669574737548}}}\u001b[0m\n",
      "\u001b[34m#metrics {\"StartTime\": 1635523580.4568796, \"EndTime\": 1635523580.4568884, \"Dimensions\": {\"Algorithm\": \"Linear Learner\", \"Host\": \"algo-1\", \"Operation\": \"training\", \"epoch\": 2, \"model\": 27}, \"Metrics\": {\"train_absolute_loss_objective\": {\"sum\": 0.8796963405609131, \"count\": 1, \"min\": 0.8796963405609131, \"max\": 0.8796963405609131}}}\u001b[0m\n",
      "\u001b[34m#metrics {\"StartTime\": 1635523580.45692, \"EndTime\": 1635523580.4569285, \"Dimensions\": {\"Algorithm\": \"Linear Learner\", \"Host\": \"algo-1\", \"Operation\": \"training\", \"epoch\": 2, \"model\": 28}, \"Metrics\": {\"train_absolute_loss_objective\": {\"sum\": 0.8603975868225098, \"count\": 1, \"min\": 0.8603975868225098, \"max\": 0.8603975868225098}}}\u001b[0m\n",
      "\u001b[34m#metrics {\"StartTime\": 1635523580.4569597, \"EndTime\": 1635523580.4569688, \"Dimensions\": {\"Algorithm\": \"Linear Learner\", \"Host\": \"algo-1\", \"Operation\": \"training\", \"epoch\": 2, \"model\": 29}, \"Metrics\": {\"train_absolute_loss_objective\": {\"sum\": 0.8607931137084961, \"count\": 1, \"min\": 0.8607931137084961, \"max\": 0.8607931137084961}}}\u001b[0m\n",
      "\u001b[34m#metrics {\"StartTime\": 1635523580.4570003, \"EndTime\": 1635523580.4570088, \"Dimensions\": {\"Algorithm\": \"Linear Learner\", \"Host\": \"algo-1\", \"Operation\": \"training\", \"epoch\": 2, \"model\": 30}, \"Metrics\": {\"train_absolute_loss_objective\": {\"sum\": 0.9385179328918457, \"count\": 1, \"min\": 0.9385179328918457, \"max\": 0.9385179328918457}}}\u001b[0m\n",
      "\u001b[34m#metrics {\"StartTime\": 1635523580.45704, \"EndTime\": 1635523580.4570491, \"Dimensions\": {\"Algorithm\": \"Linear Learner\", \"Host\": \"algo-1\", \"Operation\": \"training\", \"epoch\": 2, \"model\": 31}, \"Metrics\": {\"train_absolute_loss_objective\": {\"sum\": 0.8805299091339112, \"count\": 1, \"min\": 0.8805299091339112, \"max\": 0.8805299091339112}}}\u001b[0m\n",
      "\u001b[34m[10/29/2021 16:06:20 INFO 140092017682240] #quality_metric: host=algo-1, epoch=2, train absolute_loss_objective <loss>=0.8296040725708008\u001b[0m\n",
      "\u001b[34m[10/29/2021 16:06:20 INFO 140092017682240] #early_stopping_criteria_metric: host=algo-1, epoch=2, criteria=absolute_loss_objective, value=0.2626328372955322\u001b[0m\n",
      "\u001b[34m[10/29/2021 16:06:20 INFO 140092017682240] Epoch 2: Loss improved. Updating best model\u001b[0m\n",
      "\u001b[34m[10/29/2021 16:06:20 INFO 140092017682240] Saving model for epoch: 2\u001b[0m\n",
      "\u001b[34m[10/29/2021 16:06:20 INFO 140092017682240] Saved checkpoint to \"/tmp/tmpne28ixxk/mx-mod-0000.params\"\u001b[0m\n",
      "\u001b[34m[10/29/2021 16:06:20 INFO 140092017682240] #progress_metric: host=algo-1, completed 60.0 % of epochs\u001b[0m\n",
      "\u001b[34m#metrics {\"StartTime\": 1635523580.3457134, \"EndTime\": 1635523580.4655876, \"Dimensions\": {\"Algorithm\": \"Linear Learner\", \"Host\": \"algo-1\", \"Operation\": \"training\", \"epoch\": 2, \"Meta\": \"training_data_iter\"}, \"Metrics\": {\"Total Records Seen\": {\"sum\": 117.0, \"count\": 1, \"min\": 117, \"max\": 117}, \"Total Batches Seen\": {\"sum\": 25.0, \"count\": 1, \"min\": 25, \"max\": 25}, \"Max Records Seen Between Resets\": {\"sum\": 28.0, \"count\": 1, \"min\": 28, \"max\": 28}, \"Max Batches Seen Between Resets\": {\"sum\": 6.0, \"count\": 1, \"min\": 6, \"max\": 6}, \"Reset Count\": {\"sum\": 5.0, \"count\": 1, \"min\": 5, \"max\": 5}, \"Number of Records Since Last Reset\": {\"sum\": 28.0, \"count\": 1, \"min\": 28, \"max\": 28}, \"Number of Batches Since Last Reset\": {\"sum\": 6.0, \"count\": 1, \"min\": 6, \"max\": 6}}}\u001b[0m\n",
      "\u001b[34m[10/29/2021 16:06:20 INFO 140092017682240] #throughput_metric: host=algo-1, train throughput=233.31501362852535 records/second\u001b[0m\n",
      "\u001b[34m[2021-10-29 16:06:20.573] [tensorio] [info] epoch_stats={\"data_pipeline\": \"/opt/ml/input/data/train\", \"epoch\": 10, \"duration\": 107, \"num_examples\": 6, \"num_bytes\": 1344}\u001b[0m\n",
      "\u001b[34m#metrics {\"StartTime\": 1635523580.5733142, \"EndTime\": 1635523580.5733776, \"Dimensions\": {\"Algorithm\": \"Linear Learner\", \"Host\": \"algo-1\", \"Operation\": \"training\", \"epoch\": 3, \"model\": 0}, \"Metrics\": {\"train_absolute_loss_objective\": {\"sum\": 0.8004852771759033, \"count\": 1, \"min\": 0.8004852771759033, \"max\": 0.8004852771759033}}}\u001b[0m\n",
      "\u001b[34m#metrics {\"StartTime\": 1635523580.573436, \"EndTime\": 1635523580.5734484, \"Dimensions\": {\"Algorithm\": \"Linear Learner\", \"Host\": \"algo-1\", \"Operation\": \"training\", \"epoch\": 3, \"model\": 1}, \"Metrics\": {\"train_absolute_loss_objective\": {\"sum\": 0.8198362636566162, \"count\": 1, \"min\": 0.8198362636566162, \"max\": 0.8198362636566162}}}\u001b[0m\n",
      "\u001b[34m#metrics {\"StartTime\": 1635523580.573487, \"EndTime\": 1635523580.5734997, \"Dimensions\": {\"Algorithm\": \"Linear Learner\", \"Host\": \"algo-1\", \"Operation\": \"training\", \"epoch\": 3, \"model\": 2}, \"Metrics\": {\"train_absolute_loss_objective\": {\"sum\": 0.8028682041168212, \"count\": 1, \"min\": 0.8028682041168212, \"max\": 0.8028682041168212}}}\u001b[0m\n",
      "\u001b[34m#metrics {\"StartTime\": 1635523580.5735383, \"EndTime\": 1635523580.5735483, \"Dimensions\": {\"Algorithm\": \"Linear Learner\", \"Host\": \"algo-1\", \"Operation\": \"training\", \"epoch\": 3, \"model\": 3}, \"Metrics\": {\"train_absolute_loss_objective\": {\"sum\": 0.8188309574127197, \"count\": 1, \"min\": 0.8188309574127197, \"max\": 0.8188309574127197}}}\u001b[0m\n",
      "\u001b[34m#metrics {\"StartTime\": 1635523580.5735838, \"EndTime\": 1635523580.5735936, \"Dimensions\": {\"Algorithm\": \"Linear Learner\", \"Host\": \"algo-1\", \"Operation\": \"training\", \"epoch\": 3, \"model\": 4}, \"Metrics\": {\"train_absolute_loss_objective\": {\"sum\": 0.18733076095581055, \"count\": 1, \"min\": 0.18733076095581055, \"max\": 0.18733076095581055}}}\u001b[0m\n",
      "\u001b[34m#metrics {\"StartTime\": 1635523580.573627, \"EndTime\": 1635523580.573636, \"Dimensions\": {\"Algorithm\": \"Linear Learner\", \"Host\": \"algo-1\", \"Operation\": \"training\", \"epoch\": 3, \"model\": 5}, \"Metrics\": {\"train_absolute_loss_objective\": {\"sum\": 0.18102538108825683, \"count\": 1, \"min\": 0.18102538108825683, \"max\": 0.18102538108825683}}}\u001b[0m\n",
      "\u001b[34m#metrics {\"StartTime\": 1635523580.5736682, \"EndTime\": 1635523580.5736773, \"Dimensions\": {\"Algorithm\": \"Linear Learner\", \"Host\": \"algo-1\", \"Operation\": \"training\", \"epoch\": 3, \"model\": 6}, \"Metrics\": {\"train_absolute_loss_objective\": {\"sum\": 0.2516995692253113, \"count\": 1, \"min\": 0.2516995692253113, \"max\": 0.2516995692253113}}}\u001b[0m\n",
      "\u001b[34m#metrics {\"StartTime\": 1635523580.5737092, \"EndTime\": 1635523580.573718, \"Dimensions\": {\"Algorithm\": \"Linear Learner\", \"Host\": \"algo-1\", \"Operation\": \"training\", \"epoch\": 3, \"model\": 7}, \"Metrics\": {\"train_absolute_loss_objective\": {\"sum\": 0.28783458948135376, \"count\": 1, \"min\": 0.28783458948135376, \"max\": 0.28783458948135376}}}\u001b[0m\n",
      "\u001b[34m#metrics {\"StartTime\": 1635523580.57375, \"EndTime\": 1635523580.573759, \"Dimensions\": {\"Algorithm\": \"Linear Learner\", \"Host\": \"algo-1\", \"Operation\": \"training\", \"epoch\": 3, \"model\": 8}, \"Metrics\": {\"train_absolute_loss_objective\": {\"sum\": 0.8557197380065918, \"count\": 1, \"min\": 0.8557197380065918, \"max\": 0.8557197380065918}}}\u001b[0m\n",
      "\u001b[34m#metrics {\"StartTime\": 1635523580.5737908, \"EndTime\": 1635523580.5737996, \"Dimensions\": {\"Algorithm\": \"Linear Learner\", \"Host\": \"algo-1\", \"Operation\": \"training\", \"epoch\": 3, \"model\": 9}, \"Metrics\": {\"train_absolute_loss_objective\": {\"sum\": 0.7882837295532227, \"count\": 1, \"min\": 0.7882837295532227, \"max\": 0.7882837295532227}}}\u001b[0m\n",
      "\u001b[34m#metrics {\"StartTime\": 1635523580.5738313, \"EndTime\": 1635523580.5738404, \"Dimensions\": {\"Algorithm\": \"Linear Learner\", \"Host\": \"algo-1\", \"Operation\": \"training\", \"epoch\": 3, \"model\": 10}, \"Metrics\": {\"train_absolute_loss_objective\": {\"sum\": 0.7952228832244873, \"count\": 1, \"min\": 0.7952228832244873, \"max\": 0.7952228832244873}}}\u001b[0m\n",
      "\u001b[34m#metrics {\"StartTime\": 1635523580.573874, \"EndTime\": 1635523580.5739024, \"Dimensions\": {\"Algorithm\": \"Linear Learner\", \"Host\": \"algo-1\", \"Operation\": \"training\", \"epoch\": 3, \"model\": 11}, \"Metrics\": {\"train_absolute_loss_objective\": {\"sum\": 0.7802666950225831, \"count\": 1, \"min\": 0.7802666950225831, \"max\": 0.7802666950225831}}}\u001b[0m\n",
      "\u001b[34m#metrics {\"StartTime\": 1635523580.5739443, \"EndTime\": 1635523580.5739558, \"Dimensions\": {\"Algorithm\": \"Linear Learner\", \"Host\": \"algo-1\", \"Operation\": \"training\", \"epoch\": 3, \"model\": 12}, \"Metrics\": {\"train_absolute_loss_objective\": {\"sum\": 0.1772466468811035, \"count\": 1, \"min\": 0.1772466468811035, \"max\": 0.1772466468811035}}}\u001b[0m\n",
      "\u001b[34m#metrics {\"StartTime\": 1635523580.5739892, \"EndTime\": 1635523580.5739985, \"Dimensions\": {\"Algorithm\": \"Linear Learner\", \"Host\": \"algo-1\", \"Operation\": \"training\", \"epoch\": 3, \"model\": 13}, \"Metrics\": {\"train_absolute_loss_objective\": {\"sum\": 0.3040268754959106, \"count\": 1, \"min\": 0.3040268754959106, \"max\": 0.3040268754959106}}}\u001b[0m\n",
      "\u001b[34m#metrics {\"StartTime\": 1635523580.5740302, \"EndTime\": 1635523580.5740392, \"Dimensions\": {\"Algorithm\": \"Linear Learner\", \"Host\": \"algo-1\", \"Operation\": \"training\", \"epoch\": 3, \"model\": 14}, \"Metrics\": {\"train_absolute_loss_objective\": {\"sum\": 0.1780967617034912, \"count\": 1, \"min\": 0.1780967617034912, \"max\": 0.1780967617034912}}}\u001b[0m\n",
      "\u001b[34m#metrics {\"StartTime\": 1635523580.5740728, \"EndTime\": 1635523580.5740824, \"Dimensions\": {\"Algorithm\": \"Linear Learner\", \"Host\": \"algo-1\", \"Operation\": \"training\", \"epoch\": 3, \"model\": 15}, \"Metrics\": {\"train_absolute_loss_objective\": {\"sum\": 0.29955086708068845, \"count\": 1, \"min\": 0.29955086708068845, \"max\": 0.29955086708068845}}}\u001b[0m\n",
      "\u001b[34m#metrics {\"StartTime\": 1635523580.5741146, \"EndTime\": 1635523580.5741239, \"Dimensions\": {\"Algorithm\": \"Linear Learner\", \"Host\": \"algo-1\", \"Operation\": \"training\", \"epoch\": 3, \"model\": 16}, \"Metrics\": {\"train_absolute_loss_objective\": {\"sum\": 0.7655849456787109, \"count\": 1, \"min\": 0.7655849456787109, \"max\": 0.7655849456787109}}}\u001b[0m\n",
      "\u001b[34m#metrics {\"StartTime\": 1635523580.5741568, \"EndTime\": 1635523580.574166, \"Dimensions\": {\"Algorithm\": \"Linear Learner\", \"Host\": \"algo-1\", \"Operation\": \"training\", \"epoch\": 3, \"model\": 17}, \"Metrics\": {\"train_absolute_loss_objective\": {\"sum\": 0.8155614948272705, \"count\": 1, \"min\": 0.8155614948272705, \"max\": 0.8155614948272705}}}\u001b[0m\n",
      "\u001b[34m#metrics {\"StartTime\": 1635523580.574198, \"EndTime\": 1635523580.574207, \"Dimensions\": {\"Algorithm\": \"Linear Learner\", \"Host\": \"algo-1\", \"Operation\": \"training\", \"epoch\": 3, \"model\": 18}, \"Metrics\": {\"train_absolute_loss_objective\": {\"sum\": 0.7921340656280518, \"count\": 1, \"min\": 0.7921340656280518, \"max\": 0.7921340656280518}}}\u001b[0m\n",
      "\u001b[34m#metrics {\"StartTime\": 1635523580.57424, \"EndTime\": 1635523580.5742493, \"Dimensions\": {\"Algorithm\": \"Linear Learner\", \"Host\": \"algo-1\", \"Operation\": \"training\", \"epoch\": 3, \"model\": 19}, \"Metrics\": {\"train_absolute_loss_objective\": {\"sum\": 0.7891672611236572, \"count\": 1, \"min\": 0.7891672611236572, \"max\": 0.7891672611236572}}}\u001b[0m\n",
      "\u001b[34m#metrics {\"StartTime\": 1635523580.5742831, \"EndTime\": 1635523580.5742922, \"Dimensions\": {\"Algorithm\": \"Linear Learner\", \"Host\": \"algo-1\", \"Operation\": \"training\", \"epoch\": 3, \"model\": 20}, \"Metrics\": {\"train_absolute_loss_objective\": {\"sum\": 0.5864959716796875, \"count\": 1, \"min\": 0.5864959716796875, \"max\": 0.5864959716796875}}}\u001b[0m\n",
      "\u001b[34m#metrics {\"StartTime\": 1635523580.5743241, \"EndTime\": 1635523580.5743332, \"Dimensions\": {\"Algorithm\": \"Linear Learner\", \"Host\": \"algo-1\", \"Operation\": \"training\", \"epoch\": 3, \"model\": 21}, \"Metrics\": {\"train_absolute_loss_objective\": {\"sum\": 0.5935825729370117, \"count\": 1, \"min\": 0.5935825729370117, \"max\": 0.5935825729370117}}}\u001b[0m\n",
      "\u001b[34m#metrics {\"StartTime\": 1635523580.5743647, \"EndTime\": 1635523580.5743735, \"Dimensions\": {\"Algorithm\": \"Linear Learner\", \"Host\": \"algo-1\", \"Operation\": \"training\", \"epoch\": 3, \"model\": 22}, \"Metrics\": {\"train_absolute_loss_objective\": {\"sum\": 0.40290696620941163, \"count\": 1, \"min\": 0.40290696620941163, \"max\": 0.40290696620941163}}}\u001b[0m\n",
      "\u001b[34m#metrics {\"StartTime\": 1635523580.5744052, \"EndTime\": 1635523580.574414, \"Dimensions\": {\"Algorithm\": \"Linear Learner\", \"Host\": \"algo-1\", \"Operation\": \"training\", \"epoch\": 3, \"model\": 23}, \"Metrics\": {\"train_absolute_loss_objective\": {\"sum\": 0.43273995399475096, \"count\": 1, \"min\": 0.43273995399475096, \"max\": 0.43273995399475096}}}\u001b[0m\n",
      "\u001b[34m#metrics {\"StartTime\": 1635523580.574446, \"EndTime\": 1635523580.5744548, \"Dimensions\": {\"Algorithm\": \"Linear Learner\", \"Host\": \"algo-1\", \"Operation\": \"training\", \"epoch\": 3, \"model\": 24}, \"Metrics\": {\"train_absolute_loss_objective\": {\"sum\": 0.8770806503295898, \"count\": 1, \"min\": 0.8770806503295898, \"max\": 0.8770806503295898}}}\u001b[0m\n",
      "\u001b[34m#metrics {\"StartTime\": 1635523580.5744863, \"EndTime\": 1635523580.5744953, \"Dimensions\": {\"Algorithm\": \"Linear Learner\", \"Host\": \"algo-1\", \"Operation\": \"training\", \"epoch\": 3, \"model\": 25}, \"Metrics\": {\"train_absolute_loss_objective\": {\"sum\": 0.8579512882232666, \"count\": 1, \"min\": 0.8579512882232666, \"max\": 0.8579512882232666}}}\u001b[0m\n",
      "\u001b[34m#metrics {\"StartTime\": 1635523580.5745277, \"EndTime\": 1635523580.574537, \"Dimensions\": {\"Algorithm\": \"Linear Learner\", \"Host\": \"algo-1\", \"Operation\": \"training\", \"epoch\": 3, \"model\": 26}, \"Metrics\": {\"train_absolute_loss_objective\": {\"sum\": 0.8662096977233886, \"count\": 1, \"min\": 0.8662096977233886, \"max\": 0.8662096977233886}}}\u001b[0m\n",
      "\u001b[34m#metrics {\"StartTime\": 1635523580.5745702, \"EndTime\": 1635523580.5745795, \"Dimensions\": {\"Algorithm\": \"Linear Learner\", \"Host\": \"algo-1\", \"Operation\": \"training\", \"epoch\": 3, \"model\": 27}, \"Metrics\": {\"train_absolute_loss_objective\": {\"sum\": 0.8706461238861084, \"count\": 1, \"min\": 0.8706461238861084, \"max\": 0.8706461238861084}}}\u001b[0m\n",
      "\u001b[34m#metrics {\"StartTime\": 1635523580.5746114, \"EndTime\": 1635523580.5746205, \"Dimensions\": {\"Algorithm\": \"Linear Learner\", \"Host\": \"algo-1\", \"Operation\": \"training\", \"epoch\": 3, \"model\": 28}, \"Metrics\": {\"train_absolute_loss_objective\": {\"sum\": 0.8884707069396973, \"count\": 1, \"min\": 0.8884707069396973, \"max\": 0.8884707069396973}}}\u001b[0m\n",
      "\u001b[34m#metrics {\"StartTime\": 1635523580.574654, \"EndTime\": 1635523580.5746636, \"Dimensions\": {\"Algorithm\": \"Linear Learner\", \"Host\": \"algo-1\", \"Operation\": \"training\", \"epoch\": 3, \"model\": 29}, \"Metrics\": {\"train_absolute_loss_objective\": {\"sum\": 0.8889522743225098, \"count\": 1, \"min\": 0.8889522743225098, \"max\": 0.8889522743225098}}}\u001b[0m\n",
      "\u001b[34m#metrics {\"StartTime\": 1635523580.5746953, \"EndTime\": 1635523580.5747046, \"Dimensions\": {\"Algorithm\": \"Linear Learner\", \"Host\": \"algo-1\", \"Operation\": \"training\", \"epoch\": 3, \"model\": 30}, \"Metrics\": {\"train_absolute_loss_objective\": {\"sum\": 0.9472039699554443, \"count\": 1, \"min\": 0.9472039699554443, \"max\": 0.9472039699554443}}}\u001b[0m\n",
      "\u001b[34m#metrics {\"StartTime\": 1635523580.5747373, \"EndTime\": 1635523580.5747464, \"Dimensions\": {\"Algorithm\": \"Linear Learner\", \"Host\": \"algo-1\", \"Operation\": \"training\", \"epoch\": 3, \"model\": 31}, \"Metrics\": {\"train_absolute_loss_objective\": {\"sum\": 0.9220947933197021, \"count\": 1, \"min\": 0.9220947933197021, \"max\": 0.9220947933197021}}}\u001b[0m\n",
      "\u001b[34m[10/29/2021 16:06:20 INFO 140092017682240] #quality_metric: host=algo-1, epoch=3, train absolute_loss_objective <loss>=0.8004852771759033\u001b[0m\n",
      "\u001b[34m[10/29/2021 16:06:20 INFO 140092017682240] #early_stopping_criteria_metric: host=algo-1, epoch=3, criteria=absolute_loss_objective, value=0.1772466468811035\u001b[0m\n",
      "\u001b[34m[10/29/2021 16:06:20 INFO 140092017682240] Epoch 3: Loss improved. Updating best model\u001b[0m\n",
      "\u001b[34m[10/29/2021 16:06:20 INFO 140092017682240] Saving model for epoch: 3\u001b[0m\n",
      "\u001b[34m[10/29/2021 16:06:20 INFO 140092017682240] Saved checkpoint to \"/tmp/tmpy0hsv2jb/mx-mod-0000.params\"\u001b[0m\n",
      "\u001b[34m[10/29/2021 16:06:20 INFO 140092017682240] #progress_metric: host=algo-1, completed 80.0 % of epochs\u001b[0m\n",
      "\u001b[34m#metrics {\"StartTime\": 1635523580.4658723, \"EndTime\": 1635523580.583163, \"Dimensions\": {\"Algorithm\": \"Linear Learner\", \"Host\": \"algo-1\", \"Operation\": \"training\", \"epoch\": 3, \"Meta\": \"training_data_iter\"}, \"Metrics\": {\"Total Records Seen\": {\"sum\": 145.0, \"count\": 1, \"min\": 145, \"max\": 145}, \"Total Batches Seen\": {\"sum\": 31.0, \"count\": 1, \"min\": 31, \"max\": 31}, \"Max Records Seen Between Resets\": {\"sum\": 28.0, \"count\": 1, \"min\": 28, \"max\": 28}, \"Max Batches Seen Between Resets\": {\"sum\": 6.0, \"count\": 1, \"min\": 6, \"max\": 6}, \"Reset Count\": {\"sum\": 6.0, \"count\": 1, \"min\": 6, \"max\": 6}, \"Number of Records Since Last Reset\": {\"sum\": 28.0, \"count\": 1, \"min\": 28, \"max\": 28}, \"Number of Batches Since Last Reset\": {\"sum\": 6.0, \"count\": 1, \"min\": 6, \"max\": 6}}}\u001b[0m\n",
      "\u001b[34m[10/29/2021 16:06:20 INFO 140092017682240] #throughput_metric: host=algo-1, train throughput=238.48307232438754 records/second\u001b[0m\n",
      "\u001b[34m[2021-10-29 16:06:20.700] [tensorio] [info] epoch_stats={\"data_pipeline\": \"/opt/ml/input/data/train\", \"epoch\": 12, \"duration\": 116, \"num_examples\": 6, \"num_bytes\": 1344}\u001b[0m\n",
      "\u001b[34m#metrics {\"StartTime\": 1635523580.7003827, \"EndTime\": 1635523580.7004611, \"Dimensions\": {\"Algorithm\": \"Linear Learner\", \"Host\": \"algo-1\", \"Operation\": \"training\", \"epoch\": 4, \"model\": 0}, \"Metrics\": {\"train_absolute_loss_objective\": {\"sum\": 0.7808107280731201, \"count\": 1, \"min\": 0.7808107280731201, \"max\": 0.7808107280731201}}}\u001b[0m\n",
      "\u001b[34m#metrics {\"StartTime\": 1635523580.7006125, \"EndTime\": 1635523580.700634, \"Dimensions\": {\"Algorithm\": \"Linear Learner\", \"Host\": \"algo-1\", \"Operation\": \"training\", \"epoch\": 4, \"model\": 1}, \"Metrics\": {\"train_absolute_loss_objective\": {\"sum\": 0.7998137903213501, \"count\": 1, \"min\": 0.7998137903213501, \"max\": 0.7998137903213501}}}\u001b[0m\n",
      "\u001b[34m#metrics {\"StartTime\": 1635523580.700692, \"EndTime\": 1635523580.7007103, \"Dimensions\": {\"Algorithm\": \"Linear Learner\", \"Host\": \"algo-1\", \"Operation\": \"training\", \"epoch\": 4, \"model\": 2}, \"Metrics\": {\"train_absolute_loss_objective\": {\"sum\": 0.7831650066375733, \"count\": 1, \"min\": 0.7831650066375733, \"max\": 0.7831650066375733}}}\u001b[0m\n",
      "\u001b[34m#metrics {\"StartTime\": 1635523580.7007687, \"EndTime\": 1635523580.7007866, \"Dimensions\": {\"Algorithm\": \"Linear Learner\", \"Host\": \"algo-1\", \"Operation\": \"training\", \"epoch\": 4, \"model\": 3}, \"Metrics\": {\"train_absolute_loss_objective\": {\"sum\": 0.7988206195831299, \"count\": 1, \"min\": 0.7988206195831299, \"max\": 0.7988206195831299}}}\u001b[0m\n",
      "\u001b[34m#metrics {\"StartTime\": 1635523580.7008414, \"EndTime\": 1635523580.7008593, \"Dimensions\": {\"Algorithm\": \"Linear Learner\", \"Host\": \"algo-1\", \"Operation\": \"training\", \"epoch\": 4, \"model\": 4}, \"Metrics\": {\"train_absolute_loss_objective\": {\"sum\": 0.23414631843566894, \"count\": 1, \"min\": 0.23414631843566894, \"max\": 0.23414631843566894}}}\u001b[0m\n",
      "\u001b[34m#metrics {\"StartTime\": 1635523580.7009113, \"EndTime\": 1635523580.7009292, \"Dimensions\": {\"Algorithm\": \"Linear Learner\", \"Host\": \"algo-1\", \"Operation\": \"training\", \"epoch\": 4, \"model\": 5}, \"Metrics\": {\"train_absolute_loss_objective\": {\"sum\": 0.21797540187835693, \"count\": 1, \"min\": 0.21797540187835693, \"max\": 0.21797540187835693}}}\u001b[0m\n",
      "\u001b[34m#metrics {\"StartTime\": 1635523580.700981, \"EndTime\": 1635523580.7009974, \"Dimensions\": {\"Algorithm\": \"Linear Learner\", \"Host\": \"algo-1\", \"Operation\": \"training\", \"epoch\": 4, \"model\": 6}, \"Metrics\": {\"train_absolute_loss_objective\": {\"sum\": 0.35271271705627444, \"count\": 1, \"min\": 0.35271271705627444, \"max\": 0.35271271705627444}}}\u001b[0m\n",
      "\u001b[34m#metrics {\"StartTime\": 1635523580.7010498, \"EndTime\": 1635523580.7010658, \"Dimensions\": {\"Algorithm\": \"Linear Learner\", \"Host\": \"algo-1\", \"Operation\": \"training\", \"epoch\": 4, \"model\": 7}, \"Metrics\": {\"train_absolute_loss_objective\": {\"sum\": 0.3220139169692993, \"count\": 1, \"min\": 0.3220139169692993, \"max\": 0.3220139169692993}}}\u001b[0m\n",
      "\u001b[34m#metrics {\"StartTime\": 1635523580.7011175, \"EndTime\": 1635523580.7011344, \"Dimensions\": {\"Algorithm\": \"Linear Learner\", \"Host\": \"algo-1\", \"Operation\": \"training\", \"epoch\": 4, \"model\": 8}, \"Metrics\": {\"train_absolute_loss_objective\": {\"sum\": 0.8353839874267578, \"count\": 1, \"min\": 0.8353839874267578, \"max\": 0.8353839874267578}}}\u001b[0m\n",
      "\u001b[34m#metrics {\"StartTime\": 1635523580.7011857, \"EndTime\": 1635523580.7012026, \"Dimensions\": {\"Algorithm\": \"Linear Learner\", \"Host\": \"algo-1\", \"Operation\": \"training\", \"epoch\": 4, \"model\": 9}, \"Metrics\": {\"train_absolute_loss_objective\": {\"sum\": 0.7686458969116211, \"count\": 1, \"min\": 0.7686458969116211, \"max\": 0.7686458969116211}}}\u001b[0m\n",
      "\u001b[34m#metrics {\"StartTime\": 1635523580.7012527, \"EndTime\": 1635523580.7012687, \"Dimensions\": {\"Algorithm\": \"Linear Learner\", \"Host\": \"algo-1\", \"Operation\": \"training\", \"epoch\": 4, \"model\": 10}, \"Metrics\": {\"train_absolute_loss_objective\": {\"sum\": 0.7756164121627808, \"count\": 1, \"min\": 0.7756164121627808, \"max\": 0.7756164121627808}}}\u001b[0m\n",
      "\u001b[34m#metrics {\"StartTime\": 1635523580.70132, \"EndTime\": 1635523580.7013364, \"Dimensions\": {\"Algorithm\": \"Linear Learner\", \"Host\": \"algo-1\", \"Operation\": \"training\", \"epoch\": 4, \"model\": 11}, \"Metrics\": {\"train_absolute_loss_objective\": {\"sum\": 0.7607255125045777, \"count\": 1, \"min\": 0.7607255125045777, \"max\": 0.7607255125045777}}}\u001b[0m\n",
      "\u001b[34m#metrics {\"StartTime\": 1635523580.701387, \"EndTime\": 1635523580.7014031, \"Dimensions\": {\"Algorithm\": \"Linear Learner\", \"Host\": \"algo-1\", \"Operation\": \"training\", \"epoch\": 4, \"model\": 12}, \"Metrics\": {\"train_absolute_loss_objective\": {\"sum\": 0.23626621961593627, \"count\": 1, \"min\": 0.23626621961593627, \"max\": 0.23626621961593627}}}\u001b[0m\n",
      "\u001b[34m#metrics {\"StartTime\": 1635523580.7014527, \"EndTime\": 1635523580.7014685, \"Dimensions\": {\"Algorithm\": \"Linear Learner\", \"Host\": \"algo-1\", \"Operation\": \"training\", \"epoch\": 4, \"model\": 13}, \"Metrics\": {\"train_absolute_loss_objective\": {\"sum\": 0.327122483253479, \"count\": 1, \"min\": 0.327122483253479, \"max\": 0.327122483253479}}}\u001b[0m\n",
      "\u001b[34m#metrics {\"StartTime\": 1635523580.7015183, \"EndTime\": 1635523580.701534, \"Dimensions\": {\"Algorithm\": \"Linear Learner\", \"Host\": \"algo-1\", \"Operation\": \"training\", \"epoch\": 4, \"model\": 14}, \"Metrics\": {\"train_absolute_loss_objective\": {\"sum\": 0.2363023042678833, \"count\": 1, \"min\": 0.2363023042678833, \"max\": 0.2363023042678833}}}\u001b[0m\n",
      "\u001b[34m#metrics {\"StartTime\": 1635523580.7015867, \"EndTime\": 1635523580.7016025, \"Dimensions\": {\"Algorithm\": \"Linear Learner\", \"Host\": \"algo-1\", \"Operation\": \"training\", \"epoch\": 4, \"model\": 15}, \"Metrics\": {\"train_absolute_loss_objective\": {\"sum\": 0.3253525924682617, \"count\": 1, \"min\": 0.3253525924682617, \"max\": 0.3253525924682617}}}\u001b[0m\n",
      "\u001b[34m#metrics {\"StartTime\": 1635523580.701653, \"EndTime\": 1635523580.7016685, \"Dimensions\": {\"Algorithm\": \"Linear Learner\", \"Host\": \"algo-1\", \"Operation\": \"training\", \"epoch\": 4, \"model\": 16}, \"Metrics\": {\"train_absolute_loss_objective\": {\"sum\": 0.7461792707443238, \"count\": 1, \"min\": 0.7461792707443238, \"max\": 0.7461792707443238}}}\u001b[0m\n",
      "\u001b[34m#metrics {\"StartTime\": 1635523580.7017193, \"EndTime\": 1635523580.701736, \"Dimensions\": {\"Algorithm\": \"Linear Learner\", \"Host\": \"algo-1\", \"Operation\": \"training\", \"epoch\": 4, \"model\": 17}, \"Metrics\": {\"train_absolute_loss_objective\": {\"sum\": 0.7960527133941651, \"count\": 1, \"min\": 0.7960527133941651, \"max\": 0.7960527133941651}}}\u001b[0m\n",
      "\u001b[34m#metrics {\"StartTime\": 1635523580.701787, \"EndTime\": 1635523580.7018034, \"Dimensions\": {\"Algorithm\": \"Linear Learner\", \"Host\": \"algo-1\", \"Operation\": \"training\", \"epoch\": 4, \"model\": 18}, \"Metrics\": {\"train_absolute_loss_objective\": {\"sum\": 0.7730866622924805, \"count\": 1, \"min\": 0.7730866622924805, \"max\": 0.7730866622924805}}}\u001b[0m\n",
      "\u001b[34m#metrics {\"StartTime\": 1635523580.7018514, \"EndTime\": 1635523580.7018676, \"Dimensions\": {\"Algorithm\": \"Linear Learner\", \"Host\": \"algo-1\", \"Operation\": \"training\", \"epoch\": 4, \"model\": 19}, \"Metrics\": {\"train_absolute_loss_objective\": {\"sum\": 0.770059494972229, \"count\": 1, \"min\": 0.770059494972229, \"max\": 0.770059494972229}}}\u001b[0m\n",
      "\u001b[34m#metrics {\"StartTime\": 1635523580.7019548, \"EndTime\": 1635523580.701973, \"Dimensions\": {\"Algorithm\": \"Linear Learner\", \"Host\": \"algo-1\", \"Operation\": \"training\", \"epoch\": 4, \"model\": 20}, \"Metrics\": {\"train_absolute_loss_objective\": {\"sum\": 0.6694634246826172, \"count\": 1, \"min\": 0.6694634246826172, \"max\": 0.6694634246826172}}}\u001b[0m\n",
      "\u001b[34m#metrics {\"StartTime\": 1635523580.7020235, \"EndTime\": 1635523580.702041, \"Dimensions\": {\"Algorithm\": \"Linear Learner\", \"Host\": \"algo-1\", \"Operation\": \"training\", \"epoch\": 4, \"model\": 21}, \"Metrics\": {\"train_absolute_loss_objective\": {\"sum\": 0.667574291229248, \"count\": 1, \"min\": 0.667574291229248, \"max\": 0.667574291229248}}}\u001b[0m\n",
      "\u001b[34m#metrics {\"StartTime\": 1635523580.7020926, \"EndTime\": 1635523580.7021098, \"Dimensions\": {\"Algorithm\": \"Linear Learner\", \"Host\": \"algo-1\", \"Operation\": \"training\", \"epoch\": 4, \"model\": 22}, \"Metrics\": {\"train_absolute_loss_objective\": {\"sum\": 0.45223474502563477, \"count\": 1, \"min\": 0.45223474502563477, \"max\": 0.45223474502563477}}}\u001b[0m\n",
      "\u001b[34m#metrics {\"StartTime\": 1635523580.702159, \"EndTime\": 1635523580.7021747, \"Dimensions\": {\"Algorithm\": \"Linear Learner\", \"Host\": \"algo-1\", \"Operation\": \"training\", \"epoch\": 4, \"model\": 23}, \"Metrics\": {\"train_absolute_loss_objective\": {\"sum\": 0.503633713722229, \"count\": 1, \"min\": 0.503633713722229, \"max\": 0.503633713722229}}}\u001b[0m\n",
      "\u001b[34m#metrics {\"StartTime\": 1635523580.7022238, \"EndTime\": 1635523580.7022402, \"Dimensions\": {\"Algorithm\": \"Linear Learner\", \"Host\": \"algo-1\", \"Operation\": \"training\", \"epoch\": 4, \"model\": 24}, \"Metrics\": {\"train_absolute_loss_objective\": {\"sum\": 0.879241361618042, \"count\": 1, \"min\": 0.879241361618042, \"max\": 0.879241361618042}}}\u001b[0m\n",
      "\u001b[34m#metrics {\"StartTime\": 1635523580.702296, \"EndTime\": 1635523580.7023132, \"Dimensions\": {\"Algorithm\": \"Linear Learner\", \"Host\": \"algo-1\", \"Operation\": \"training\", \"epoch\": 4, \"model\": 25}, \"Metrics\": {\"train_absolute_loss_objective\": {\"sum\": 0.8618345069885254, \"count\": 1, \"min\": 0.8618345069885254, \"max\": 0.8618345069885254}}}\u001b[0m\n",
      "\u001b[34m#metrics {\"StartTime\": 1635523580.7023616, \"EndTime\": 1635523580.702378, \"Dimensions\": {\"Algorithm\": \"Linear Learner\", \"Host\": \"algo-1\", \"Operation\": \"training\", \"epoch\": 4, \"model\": 26}, \"Metrics\": {\"train_absolute_loss_objective\": {\"sum\": 0.8711863231658935, \"count\": 1, \"min\": 0.8711863231658935, \"max\": 0.8711863231658935}}}\u001b[0m\n",
      "\u001b[34m#metrics {\"StartTime\": 1635523580.7024212, \"EndTime\": 1635523580.7024376, \"Dimensions\": {\"Algorithm\": \"Linear Learner\", \"Host\": \"algo-1\", \"Operation\": \"training\", \"epoch\": 4, \"model\": 27}, \"Metrics\": {\"train_absolute_loss_objective\": {\"sum\": 0.8668832683563232, \"count\": 1, \"min\": 0.8668832683563232, \"max\": 0.8668832683563232}}}\u001b[0m\n",
      "\u001b[34m#metrics {\"StartTime\": 1635523580.7024891, \"EndTime\": 1635523580.702505, \"Dimensions\": {\"Algorithm\": \"Linear Learner\", \"Host\": \"algo-1\", \"Operation\": \"training\", \"epoch\": 4, \"model\": 28}, \"Metrics\": {\"train_absolute_loss_objective\": {\"sum\": 0.863175344467163, \"count\": 1, \"min\": 0.863175344467163, \"max\": 0.863175344467163}}}\u001b[0m\n",
      "\u001b[34m#metrics {\"StartTime\": 1635523580.7025552, \"EndTime\": 1635523580.7025723, \"Dimensions\": {\"Algorithm\": \"Linear Learner\", \"Host\": \"algo-1\", \"Operation\": \"training\", \"epoch\": 4, \"model\": 29}, \"Metrics\": {\"train_absolute_loss_objective\": {\"sum\": 0.8628488445281982, \"count\": 1, \"min\": 0.8628488445281982, \"max\": 0.8628488445281982}}}\u001b[0m\n",
      "\u001b[34m#metrics {\"StartTime\": 1635523580.7026238, \"EndTime\": 1635523580.7026412, \"Dimensions\": {\"Algorithm\": \"Linear Learner\", \"Host\": \"algo-1\", \"Operation\": \"training\", \"epoch\": 4, \"model\": 30}, \"Metrics\": {\"train_absolute_loss_objective\": {\"sum\": 0.9590335941314697, \"count\": 1, \"min\": 0.9590335941314697, \"max\": 0.9590335941314697}}}\u001b[0m\n",
      "\u001b[34m#metrics {\"StartTime\": 1635523580.702685, \"EndTime\": 1635523580.702702, \"Dimensions\": {\"Algorithm\": \"Linear Learner\", \"Host\": \"algo-1\", \"Operation\": \"training\", \"epoch\": 4, \"model\": 31}, \"Metrics\": {\"train_absolute_loss_objective\": {\"sum\": 0.9230619812011719, \"count\": 1, \"min\": 0.9230619812011719, \"max\": 0.9230619812011719}}}\u001b[0m\n",
      "\u001b[34m[10/29/2021 16:06:20 INFO 140092017682240] #quality_metric: host=algo-1, epoch=4, train absolute_loss_objective <loss>=0.7808107280731201\u001b[0m\n",
      "\u001b[34m[10/29/2021 16:06:20 INFO 140092017682240] #early_stopping_criteria_metric: host=algo-1, epoch=4, criteria=absolute_loss_objective, value=0.21797540187835693\u001b[0m\n",
      "\u001b[34m[10/29/2021 16:06:20 INFO 140092017682240] Saving model for epoch: 4\u001b[0m\n",
      "\u001b[34m[10/29/2021 16:06:20 INFO 140092017682240] Saved checkpoint to \"/tmp/tmpzgynpyjl/mx-mod-0000.params\"\u001b[0m\n",
      "\u001b[34m[10/29/2021 16:06:20 INFO 140092017682240] #progress_metric: host=algo-1, completed 100.0 % of epochs\u001b[0m\n",
      "\u001b[34m#metrics {\"StartTime\": 1635523580.5834336, \"EndTime\": 1635523580.7109537, \"Dimensions\": {\"Algorithm\": \"Linear Learner\", \"Host\": \"algo-1\", \"Operation\": \"training\", \"epoch\": 4, \"Meta\": \"training_data_iter\"}, \"Metrics\": {\"Total Records Seen\": {\"sum\": 173.0, \"count\": 1, \"min\": 173, \"max\": 173}, \"Total Batches Seen\": {\"sum\": 37.0, \"count\": 1, \"min\": 37, \"max\": 37}, \"Max Records Seen Between Resets\": {\"sum\": 28.0, \"count\": 1, \"min\": 28, \"max\": 28}, \"Max Batches Seen Between Resets\": {\"sum\": 6.0, \"count\": 1, \"min\": 6, \"max\": 6}, \"Reset Count\": {\"sum\": 7.0, \"count\": 1, \"min\": 7, \"max\": 7}, \"Number of Records Since Last Reset\": {\"sum\": 28.0, \"count\": 1, \"min\": 28, \"max\": 28}, \"Number of Batches Since Last Reset\": {\"sum\": 6.0, \"count\": 1, \"min\": 6, \"max\": 6}}}\u001b[0m\n",
      "\u001b[34m[10/29/2021 16:06:20 INFO 140092017682240] #throughput_metric: host=algo-1, train throughput=219.3571205767812 records/second\u001b[0m\n",
      "\u001b[34m[10/29/2021 16:06:20 WARNING 140092017682240] wait_for_all_workers will not sync workers since the kv store is not running distributed\u001b[0m\n",
      "\u001b[34m[10/29/2021 16:06:20 WARNING 140092017682240] wait_for_all_workers will not sync workers since the kv store is not running distributed\u001b[0m\n",
      "\u001b[34m[2021-10-29 16:06:20.711] [tensorio] [info] epoch_stats={\"data_pipeline\": \"/opt/ml/input/data/train\", \"epoch\": 14, \"duration\": 0, \"num_examples\": 1, \"num_bytes\": 240}\u001b[0m\n",
      "\u001b[34m[2021-10-29 16:06:20.721] [tensorio] [info] epoch_stats={\"data_pipeline\": \"/opt/ml/input/data/train\", \"epoch\": 16, \"duration\": 7, \"num_examples\": 6, \"num_bytes\": 1344}\u001b[0m\n",
      "\u001b[34m[10/29/2021 16:06:20 INFO 140092017682240] #train_score (algo-1) : ('absolute_loss_objective', 5772.189453125)\u001b[0m\n",
      "\u001b[34m[10/29/2021 16:06:20 INFO 140092017682240] #train_score (algo-1) : ('mse', 56179556.0)\u001b[0m\n",
      "\u001b[34m[10/29/2021 16:06:20 INFO 140092017682240] #train_score (algo-1) : ('absolute_loss', 5772.189453125)\u001b[0m\n",
      "\u001b[34m[10/29/2021 16:06:20 INFO 140092017682240] #quality_metric: host=algo-1, train absolute_loss_objective <loss>=5772.189453125\u001b[0m\n",
      "\u001b[34m[10/29/2021 16:06:20 INFO 140092017682240] #quality_metric: host=algo-1, train mse <loss>=56179556.0\u001b[0m\n",
      "\u001b[34m[10/29/2021 16:06:20 INFO 140092017682240] #quality_metric: host=algo-1, train absolute_loss <loss>=5772.189453125\u001b[0m\n",
      "\u001b[34m[10/29/2021 16:06:20 INFO 140092017682240] Best model found for hyperparameters: {\"optimizer\": \"adam\", \"learning_rate\": 0.1, \"wd\": 0.01, \"l1\": 0.0, \"lr_scheduler_step\": 10, \"lr_scheduler_factor\": 0.99, \"lr_scheduler_minimum_lr\": 1e-05}\u001b[0m\n",
      "\u001b[34m[10/29/2021 16:06:20 INFO 140092017682240] Saved checkpoint to \"/tmp/tmpgxy302w1/mx-mod-0000.params\"\u001b[0m\n",
      "\u001b[34m[10/29/2021 16:06:20 INFO 140092017682240] Test data is not provided.\u001b[0m\n",
      "\u001b[34m#metrics {\"StartTime\": 1635523579.9222586, \"EndTime\": 1635523580.7269084, \"Dimensions\": {\"Algorithm\": \"Linear Learner\", \"Host\": \"algo-1\", \"Operation\": \"training\"}, \"Metrics\": {\"initialize.time\": {\"sum\": 181.56957626342773, \"count\": 1, \"min\": 181.56957626342773, \"max\": 181.56957626342773}, \"epochs\": {\"sum\": 5.0, \"count\": 1, \"min\": 5, \"max\": 5}, \"check_early_stopping.time\": {\"sum\": 3.964662551879883, \"count\": 5, \"min\": 0.19216537475585938, \"max\": 0.9605884552001953}, \"update.time\": {\"sum\": 585.9837532043457, \"count\": 5, \"min\": 107.31697082519531, \"max\": 124.91035461425781}, \"finalize.time\": {\"sum\": 10.895252227783203, \"count\": 1, \"min\": 10.895252227783203, \"max\": 10.895252227783203}, \"setuptime\": {\"sum\": 27.147293090820312, \"count\": 1, \"min\": 27.147293090820312, \"max\": 27.147293090820312}, \"totaltime\": {\"sum\": 1073.2741355895996, \"count\": 1, \"min\": 1073.2741355895996, \"max\": 1073.2741355895996}}}\u001b[0m\n",
      "\n",
      "2021-10-29 16:06:32 Uploading - Uploading generated training model\n",
      "2021-10-29 16:06:32 Completed - Training job completed\n",
      "Training seconds: 55\n",
      "Billable seconds: 55\n"
     ]
    }
   ],
   "source": [
    "# We have pass in the container, the type of instance that we would like to use for training \n",
    "# output path and sagemaker session into the Estimator. \n",
    "# We can also specify how many instances we would like to use for training\n",
    "# sagemaker_session = sagemaker.Session()\n",
    "\n",
    "linear = sagemaker.estimator.Estimator(container,\n",
    "                                       role, \n",
    "                                       train_instance_count = 1, \n",
    "                                       train_instance_type = 'ml.c4.xlarge',\n",
    "                                       output_path = output_location,\n",
    "                                       sagemaker_session = sagemaker_session)\n",
    "\n",
    "\n",
    "# We can tune parameters like the number of features that we are passing in, type of predictor like 'regressor' or 'classifier', mini batch size, epochs\n",
    "# Train 32 different versions of the model and will get the best out of them (built-in parameters optimization!)\n",
    "\n",
    "linear.set_hyperparameters(feature_dim = 1,\n",
    "                           predictor_type = 'regressor',\n",
    "                           mini_batch_size = 5,\n",
    "                           epochs = 5,\n",
    "                           num_models = 32,\n",
    "                           loss = 'absolute_loss')\n",
    "\n",
    "# Now we are ready to pass in the training data from S3 to train the linear learner model\n",
    "\n",
    "linear.fit({'train': s3_train_data})\n",
    "\n",
    "# Let's see the progress using cloudwatch logs"
   ]
  },
  {
   "cell_type": "code",
   "execution_count": null,
   "metadata": {},
   "outputs": [],
   "source": []
  },
  {
   "cell_type": "code",
   "execution_count": null,
   "metadata": {},
   "outputs": [],
   "source": []
  },
  {
   "cell_type": "markdown",
   "metadata": {},
   "source": [
    "# DEPLOY AND TEST THE TRAINED LINEAR LEARNER MODEL "
   ]
  },
  {
   "cell_type": "code",
   "execution_count": 38,
   "metadata": {},
   "outputs": [
    {
     "name": "stdout",
     "output_type": "stream",
     "text": [
      "------!"
     ]
    }
   ],
   "source": [
    "# Deploying the model to perform inference \n",
    "\n",
    "linear_regressor = linear.deploy(initial_instance_count = 1,\n",
    "                                          instance_type = 'ml.m4.xlarge')"
   ]
  },
  {
   "cell_type": "code",
   "execution_count": 39,
   "metadata": {},
   "outputs": [],
   "source": [
    "from sagemaker.predictor import csv_serializer, json_deserializer\n",
    "\n",
    "# Content type overrides the data that will be passed to the deployed model, since the deployed model expects data in text/csv format.\n",
    "\n",
    "# Serializer accepts a single argument, the input data, and returns a sequence of bytes in the specified content type\n",
    "\n",
    "# Deserializer accepts two arguments, the result data and the response content type, and return a sequence of bytes in the specified content type.\n",
    "\n",
    "# Reference: https://sagemaker.readthedocs.io/en/stable/predictors.html\n",
    "\n",
    "# linear_regressor.content_type = 'text/csv'\n",
    "linear_regressor.serializer = csv_serializer\n",
    "linear_regressor.deserializer = json_deserializer"
   ]
  },
  {
   "cell_type": "code",
   "execution_count": 40,
   "metadata": {},
   "outputs": [
    {
     "name": "stderr",
     "output_type": "stream",
     "text": [
      "The csv_serializer has been renamed in sagemaker>=2.\n",
      "See: https://sagemaker.readthedocs.io/en/stable/v2.html for details.\n",
      "The json_deserializer has been renamed in sagemaker>=2.\n",
      "See: https://sagemaker.readthedocs.io/en/stable/v2.html for details.\n"
     ]
    }
   ],
   "source": [
    "# making prediction on the test data\n",
    "\n",
    "result = linear_regressor.predict(X_test)"
   ]
  },
  {
   "cell_type": "code",
   "execution_count": 41,
   "metadata": {},
   "outputs": [
    {
     "data": {
      "text/plain": [
       "{'predictions': [{'score': 129808.5234375},\n",
       "  {'score': 137516.28125},\n",
       "  {'score': 149077.921875},\n",
       "  {'score': 70073.390625},\n",
       "  {'score': 143297.09375},\n",
       "  {'score': 49840.5234375},\n",
       "  {'score': 126918.1171875}]}"
      ]
     },
     "execution_count": 41,
     "metadata": {},
     "output_type": "execute_result"
    }
   ],
   "source": [
    "result # results are in Json format"
   ]
  },
  {
   "cell_type": "code",
   "execution_count": 42,
   "metadata": {},
   "outputs": [],
   "source": [
    "# Since the result is in json format, we access the scores by iterating through the scores in the predictions\n",
    "\n",
    "predictions = np.array([r['score'] for r in result['predictions']])"
   ]
  },
  {
   "cell_type": "code",
   "execution_count": 43,
   "metadata": {},
   "outputs": [
    {
     "data": {
      "text/plain": [
       "array([129808.5234375, 137516.28125  , 149077.921875 ,  70073.390625 ,\n",
       "       143297.09375  ,  49840.5234375, 126918.1171875])"
      ]
     },
     "execution_count": 43,
     "metadata": {},
     "output_type": "execute_result"
    }
   ],
   "source": [
    "predictions"
   ]
  },
  {
   "cell_type": "code",
   "execution_count": 44,
   "metadata": {
    "scrolled": true
   },
   "outputs": [
    {
     "data": {
      "text/plain": [
       "(7,)"
      ]
     },
     "execution_count": 44,
     "metadata": {},
     "output_type": "execute_result"
    }
   ],
   "source": [
    "predictions.shape"
   ]
  },
  {
   "cell_type": "code",
   "execution_count": 45,
   "metadata": {},
   "outputs": [
    {
     "data": {
      "text/plain": [
       "Text(0.5, 1.0, 'Salary vs. Years of Experience')"
      ]
     },
     "execution_count": 45,
     "metadata": {},
     "output_type": "execute_result"
    },
    {
     "data": {
      "image/png": "[encoded data removed]",
      "text/plain": [
       "<Figure size 432x288 with 1 Axes>"
      ]
     },
     "metadata": {
      "needs_background": "light"
     },
     "output_type": "display_data"
    }
   ],
   "source": [
    "# VISUALIZE TEST SET RESULTS\n",
    "plt.scatter(X_test, y_test, color = 'gray')\n",
    "plt.plot(X_test, predictions, color = 'red')\n",
    "plt.xlabel('Years of Experience (Testing Dataset)')\n",
    "plt.ylabel('salary')\n",
    "plt.title('Salary vs. Years of Experience')"
   ]
  },
  {
   "cell_type": "code",
   "execution_count": 46,
   "metadata": {},
   "outputs": [],
   "source": [
    "# Delete the end-point\n",
    "\n",
    "linear_regressor.delete_endpoint()"
   ]
  },
  {
   "cell_type": "code",
   "execution_count": null,
   "metadata": {},
   "outputs": [],
   "source": []
  },
  {
   "cell_type": "code",
   "execution_count": null,
   "metadata": {},
   "outputs": [],
   "source": []
  }
 ],
 "metadata": {
  "colab": {
   "collapsed_sections": [],
   "name": "Graduate_Admission_Prediction.ipynb",
   "provenance": [],
   "toc_visible": true
  },
  "instance_type": "ml.t3.medium",
  "kernelspec": {
   "display_name": "conda_python3",
   "language": "python",
   "name": "conda_python3"
  },
  "language_info": {
   "codemirror_mode": {
    "name": "ipython",
    "version": 3
   },
   "file_extension": ".py",
   "mimetype": "text/x-python",
   "name": "python",
   "nbconvert_exporter": "python",
   "pygments_lexer": "ipython3",
   "version": "3.6.13"
  }
 },
 "nbformat": 4,
 "nbformat_minor": 4
}
